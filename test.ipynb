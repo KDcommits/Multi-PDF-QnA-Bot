{
 "cells": [
  {
   "cell_type": "markdown",
   "metadata": {},
   "source": [
    "## SQL Table"
   ]
  },
  {
   "cell_type": "code",
   "execution_count": 1,
   "metadata": {},
   "outputs": [
    {
     "name": "stderr",
     "output_type": "stream",
     "text": [
      "c:\\Users\\krish\\anaconda3\\envs\\torch_env\\lib\\site-packages\\tqdm\\auto.py:21: TqdmWarning: IProgress not found. Please update jupyter and ipywidgets. See https://ipywidgets.readthedocs.io/en/stable/user_install.html\n",
      "  from .autonotebook import tqdm as notebook_tqdm\n"
     ]
    },
    {
     "name": "stdout",
     "output_type": "stream",
     "text": [
      "Dimension of the Embedding :  384\n"
     ]
    }
   ],
   "source": [
    "from langchain.embeddings import HuggingFaceEmbeddings\n",
    "from langchain.embeddings.openai import OpenAIEmbeddings\n",
    "# from sentence_transformers import SentenceTransformer\n",
    "import os \n",
    "from langchain.text_splitter import RecursiveCharacterTextSplitter\n",
    "from langchain.document_loaders import PyPDFLoader, DirectoryLoader\n",
    "from langchain.vectorstores import FAISS\n",
    "model = HuggingFaceEmbeddings(model_name='sentence-transformers/all-MiniLM-L6-v2', \n",
    "                                            model_kwargs={'device':'cuda'})\n",
    "# model = sentence_transformer( model_name ='sentence-transformers/all-MiniLM-L6-v2')\n",
    "sample_encoding = model.embed_query(\"Sample Sentence\")\n",
    "print(\"Dimension of the Embedding : \", len(sample_encoding))"
   ]
  },
  {
   "cell_type": "code",
   "execution_count": 2,
   "metadata": {},
   "outputs": [
    {
     "name": "stdout",
     "output_type": "stream",
     "text": [
      "Dimension of the Embedding :  1536\n"
     ]
    }
   ],
   "source": [
    "openai_embedding_model = OpenAIEmbeddings(model='text-embedding-ada-002',\n",
    "                                                       openai_api_key=os.getenv('OPENAI_KEY'))\n",
    "sample_encoding = openai_embedding_model.embed_query(\"Sample Sentence\")\n",
    "print(\"Dimension of the Embedding : \", len(sample_encoding))"
   ]
  },
  {
   "cell_type": "code",
   "execution_count": 13,
   "metadata": {},
   "outputs": [],
   "source": [
    "import os\n",
    "import pandas as pd\n",
    "from dateutil.parser import parse\n",
    "df = pd.read_csv('.\\\\Canon Open Source Data\\\\excel knowledge base.txt', delimiter='\\t')\n",
    "df.drop([0], axis=0, inplace=True)\n",
    "df.drop('Field name', axis =1 , inplace=True)\n",
    "df.rename(columns={'Record No.':'index'}, inplace=True)\n",
    "df.drop('index', axis=1, inplace =True)\n",
    "df.fillna(\"Not Available\", inplace =True)\n",
    "df['Date'] = [parse(df.loc[i].Date) for i in df.index.to_list()]"
   ]
  },
  {
   "cell_type": "code",
   "execution_count": 14,
   "metadata": {},
   "outputs": [
    {
     "data": {
      "text/html": [
       "<div>\n",
       "<style scoped>\n",
       "    .dataframe tbody tr th:only-of-type {\n",
       "        vertical-align: middle;\n",
       "    }\n",
       "\n",
       "    .dataframe tbody tr th {\n",
       "        vertical-align: top;\n",
       "    }\n",
       "\n",
       "    .dataframe thead th {\n",
       "        text-align: right;\n",
       "    }\n",
       "</style>\n",
       "<table border=\"1\" class=\"dataframe\">\n",
       "  <thead>\n",
       "    <tr style=\"text-align: right;\">\n",
       "      <th></th>\n",
       "      <th>Date</th>\n",
       "      <th>Department</th>\n",
       "      <th>Product</th>\n",
       "      <th>Zone</th>\n",
       "      <th>State</th>\n",
       "      <th>Category</th>\n",
       "      <th>Competetor_Product_Information</th>\n",
       "      <th>Attachment</th>\n",
       "    </tr>\n",
       "  </thead>\n",
       "  <tbody>\n",
       "    <tr>\n",
       "      <th>1</th>\n",
       "      <td>2023-06-23</td>\n",
       "      <td>PCC-BIS</td>\n",
       "      <td>CS</td>\n",
       "      <td>India</td>\n",
       "      <td>#VALUE!</td>\n",
       "      <td>Economic</td>\n",
       "      <td>Due to Growth in Road Logistics Industry New O...</td>\n",
       "      <td>Not Available</td>\n",
       "    </tr>\n",
       "    <tr>\n",
       "      <th>2</th>\n",
       "      <td>2023-06-23</td>\n",
       "      <td>PCC-BIS</td>\n",
       "      <td>CS</td>\n",
       "      <td>West</td>\n",
       "      <td>#VALUE!</td>\n",
       "      <td>Product</td>\n",
       "      <td>Sharp organized partners meet synergy at Goa i...</td>\n",
       "      <td>Not Available</td>\n",
       "    </tr>\n",
       "    <tr>\n",
       "      <th>3</th>\n",
       "      <td>2023-06-30</td>\n",
       "      <td>PCC-PPP</td>\n",
       "      <td>PPP</td>\n",
       "      <td>India</td>\n",
       "      <td>#VALUE!</td>\n",
       "      <td>Product</td>\n",
       "      <td>HP is very aggressively positioning Z6 series ...</td>\n",
       "      <td>Not Available</td>\n",
       "    </tr>\n",
       "    <tr>\n",
       "      <th>4</th>\n",
       "      <td>2023-06-29</td>\n",
       "      <td>PBC</td>\n",
       "      <td>ICB</td>\n",
       "      <td>East</td>\n",
       "      <td>#VALUE!</td>\n",
       "      <td>Product</td>\n",
       "      <td>Nikon &amp; Sony started promoting Z8 and Zve1 vis...</td>\n",
       "      <td>Not Available</td>\n",
       "    </tr>\n",
       "    <tr>\n",
       "      <th>5</th>\n",
       "      <td>2023-06-22</td>\n",
       "      <td>CBC-PPP</td>\n",
       "      <td>PPP</td>\n",
       "      <td>India</td>\n",
       "      <td>#VALUE!</td>\n",
       "      <td>Market footfall</td>\n",
       "      <td>Konica Minolta demo on wheels had good respons...</td>\n",
       "      <td>Not Available</td>\n",
       "    </tr>\n",
       "    <tr>\n",
       "      <th>...</th>\n",
       "      <td>...</td>\n",
       "      <td>...</td>\n",
       "      <td>...</td>\n",
       "      <td>...</td>\n",
       "      <td>...</td>\n",
       "      <td>...</td>\n",
       "      <td>...</td>\n",
       "      <td>...</td>\n",
       "    </tr>\n",
       "    <tr>\n",
       "      <th>83</th>\n",
       "      <td>2023-07-14</td>\n",
       "      <td>PBC-South</td>\n",
       "      <td>ICB</td>\n",
       "      <td>South</td>\n",
       "      <td>#VALUE!</td>\n",
       "      <td>Product</td>\n",
       "      <td>Sony A7M4 sellout is good in the market.</td>\n",
       "      <td>Not Available</td>\n",
       "    </tr>\n",
       "    <tr>\n",
       "      <th>84</th>\n",
       "      <td>2023-07-14</td>\n",
       "      <td>PBC-South</td>\n",
       "      <td>ICB</td>\n",
       "      <td>South</td>\n",
       "      <td>#VALUE!</td>\n",
       "      <td>Product</td>\n",
       "      <td>Sony New model A7R5 stocks reached outlets las...</td>\n",
       "      <td>Not Available</td>\n",
       "    </tr>\n",
       "    <tr>\n",
       "      <th>85</th>\n",
       "      <td>2023-07-14</td>\n",
       "      <td>PBC-South</td>\n",
       "      <td>ICB</td>\n",
       "      <td>South</td>\n",
       "      <td>#VALUE!</td>\n",
       "      <td>Product</td>\n",
       "      <td>Sony APS-C stocks likely to hit market post 15...</td>\n",
       "      <td>Not Available</td>\n",
       "    </tr>\n",
       "    <tr>\n",
       "      <th>86</th>\n",
       "      <td>2023-07-14</td>\n",
       "      <td>PBC-South</td>\n",
       "      <td>ICB</td>\n",
       "      <td>South</td>\n",
       "      <td>#VALUE!</td>\n",
       "      <td>Product</td>\n",
       "      <td>Nikon Z8 stocks are available in market but no...</td>\n",
       "      <td>Not Available</td>\n",
       "    </tr>\n",
       "    <tr>\n",
       "      <th>87</th>\n",
       "      <td>2023-07-14</td>\n",
       "      <td>PBC-South</td>\n",
       "      <td>CS</td>\n",
       "      <td>South</td>\n",
       "      <td>#VALUE!</td>\n",
       "      <td>Product</td>\n",
       "      <td>Epson distributors are reducing L series prici...</td>\n",
       "      <td>Not Available</td>\n",
       "    </tr>\n",
       "  </tbody>\n",
       "</table>\n",
       "<p>87 rows × 8 columns</p>\n",
       "</div>"
      ],
      "text/plain": [
       "         Date Department Product   Zone    State         Category  \\\n",
       "1  2023-06-23    PCC-BIS      CS  India  #VALUE!         Economic   \n",
       "2  2023-06-23    PCC-BIS      CS   West  #VALUE!          Product   \n",
       "3  2023-06-30    PCC-PPP     PPP  India  #VALUE!          Product   \n",
       "4  2023-06-29        PBC     ICB   East  #VALUE!          Product   \n",
       "5  2023-06-22    CBC-PPP     PPP  India  #VALUE!  Market footfall   \n",
       "..        ...        ...     ...    ...      ...              ...   \n",
       "83 2023-07-14  PBC-South     ICB  South  #VALUE!          Product   \n",
       "84 2023-07-14  PBC-South     ICB  South  #VALUE!          Product   \n",
       "85 2023-07-14  PBC-South     ICB  South  #VALUE!          Product   \n",
       "86 2023-07-14  PBC-South     ICB  South  #VALUE!          Product   \n",
       "87 2023-07-14  PBC-South      CS  South  #VALUE!          Product   \n",
       "\n",
       "                       Competetor_Product_Information     Attachment  \n",
       "1   Due to Growth in Road Logistics Industry New O...  Not Available  \n",
       "2   Sharp organized partners meet synergy at Goa i...  Not Available  \n",
       "3   HP is very aggressively positioning Z6 series ...  Not Available  \n",
       "4   Nikon & Sony started promoting Z8 and Zve1 vis...  Not Available  \n",
       "5   Konica Minolta demo on wheels had good respons...  Not Available  \n",
       "..                                                ...            ...  \n",
       "83           Sony A7M4 sellout is good in the market.  Not Available  \n",
       "84  Sony New model A7R5 stocks reached outlets las...  Not Available  \n",
       "85  Sony APS-C stocks likely to hit market post 15...  Not Available  \n",
       "86  Nikon Z8 stocks are available in market but no...  Not Available  \n",
       "87  Epson distributors are reducing L series prici...  Not Available  \n",
       "\n",
       "[87 rows x 8 columns]"
      ]
     },
     "execution_count": 14,
     "metadata": {},
     "output_type": "execute_result"
    }
   ],
   "source": [
    "df"
   ]
  },
  {
   "cell_type": "code",
   "execution_count": 16,
   "metadata": {},
   "outputs": [],
   "source": [
    "df.to_csv('.\\\\Canon Open Source Data\\\\knowledgeBase.csv')"
   ]
  },
  {
   "cell_type": "code",
   "execution_count": 17,
   "metadata": {},
   "outputs": [
    {
     "name": "stdout",
     "output_type": "stream",
     "text": [
      "True\n"
     ]
    }
   ],
   "source": [
    "import mysql.connector as connection \n",
    "\n",
    "try:\n",
    "    mydb=connection.connect(host=\"localhost\",user=\"root\",password='1320')\n",
    "    print(mydb.is_connected())                                   \n",
    "    #mydb.close()\n",
    "except Exception as e:\n",
    "    print(str(e))"
   ]
  },
  {
   "cell_type": "code",
   "execution_count": 3,
   "metadata": {},
   "outputs": [
    {
     "name": "stdout",
     "output_type": "stream",
     "text": [
      "Database created !\n"
     ]
    }
   ],
   "source": [
    "# creating a new database \n",
    "\n",
    "query= \"create database CanonDB\"\n",
    "cursor=mydb.cursor()           \n",
    "cursor.execute(query)          \n",
    "print(\"Database created !\")"
   ]
  },
  {
   "cell_type": "code",
   "execution_count": 18,
   "metadata": {},
   "outputs": [
    {
     "name": "stdout",
     "output_type": "stream",
     "text": [
      "True\n"
     ]
    }
   ],
   "source": [
    "try:\n",
    "    mydb=connection.connect(host=\"localhost\",database=\"canonDB\",user=\"root\",password=\"1320\",use_pure=True)\n",
    "    print(mydb.is_connected())                                   # To check if connection is established with the Database\n",
    "    #mydb.close()\n",
    "except Exception as e:\n",
    "    print(str(e))"
   ]
  },
  {
   "cell_type": "code",
   "execution_count": 8,
   "metadata": {},
   "outputs": [],
   "source": [
    "db=connection.connect(host=\"localhost\",database='canonDB',user=\"root\",password=\"1320\",use_pure=True)\n",
    "cursor=db.cursor()\n",
    "query = \"Drop table canon\"\n",
    "cursor.execute(query)\n",
    "db.commit()"
   ]
  },
  {
   "cell_type": "code",
   "execution_count": 19,
   "metadata": {},
   "outputs": [],
   "source": [
    "# Step 4 : Inserting data into the Table\n",
    "\n",
    "db=connection.connect(host=\"localhost\",database='canonDB',user=\"root\",password=\"1320\",use_pure=True)\n",
    "cursor=db.cursor()\n",
    "\n",
    "# cols = \"`,`\".join(['ID']+[str(i) for i in df.columns.tolist()])\n",
    "colvalues=[]\n",
    "for i,row in df.iterrows():\n",
    "    colvalues.append(tuple([i+1]+list(row)))\n",
    "\n",
    "# Insert DataFrame recrds one by one.\n",
    "for i in colvalues:\n",
    "    try:\n",
    "        query = \"INSERT INTO CANON VALUES{}\".format(i)\n",
    "        cursor.execute(query)\n",
    "        db.commit()\n",
    "    except Exception as e:\n",
    "        print(e)"
   ]
  },
  {
   "cell_type": "code",
   "execution_count": 20,
   "metadata": {},
   "outputs": [
    {
     "name": "stderr",
     "output_type": "stream",
     "text": [
      "C:\\Users\\krish\\AppData\\Local\\Temp\\ipykernel_24580\\3438997778.py:4: UserWarning: pandas only supports SQLAlchemy connectable (engine/connection) or database string URI or sqlite3 DBAPI2 connection. Other DBAPI2 objects are not tested. Please consider using SQLAlchemy.\n",
      "  df=pd.read_sql(query,db)\n"
     ]
    },
    {
     "data": {
      "text/html": [
       "<div>\n",
       "<style scoped>\n",
       "    .dataframe tbody tr th:only-of-type {\n",
       "        vertical-align: middle;\n",
       "    }\n",
       "\n",
       "    .dataframe tbody tr th {\n",
       "        vertical-align: top;\n",
       "    }\n",
       "\n",
       "    .dataframe thead th {\n",
       "        text-align: right;\n",
       "    }\n",
       "</style>\n",
       "<table border=\"1\" class=\"dataframe\">\n",
       "  <thead>\n",
       "    <tr style=\"text-align: right;\">\n",
       "      <th></th>\n",
       "      <th>index</th>\n",
       "      <th>Date</th>\n",
       "      <th>Department</th>\n",
       "      <th>Product</th>\n",
       "      <th>Zone</th>\n",
       "      <th>State</th>\n",
       "      <th>Category</th>\n",
       "      <th>Competetor_Product_Information</th>\n",
       "      <th>Attachment</th>\n",
       "    </tr>\n",
       "  </thead>\n",
       "  <tbody>\n",
       "    <tr>\n",
       "      <th>0</th>\n",
       "      <td>2</td>\n",
       "      <td>2023-06-23</td>\n",
       "      <td>PCC-BIS</td>\n",
       "      <td>CS</td>\n",
       "      <td>India</td>\n",
       "      <td>#VALUE!</td>\n",
       "      <td>Economic</td>\n",
       "      <td>Due to Growth in Road Logistics Industry New O...</td>\n",
       "      <td>Not Available</td>\n",
       "    </tr>\n",
       "    <tr>\n",
       "      <th>1</th>\n",
       "      <td>3</td>\n",
       "      <td>2023-06-23</td>\n",
       "      <td>PCC-BIS</td>\n",
       "      <td>CS</td>\n",
       "      <td>West</td>\n",
       "      <td>#VALUE!</td>\n",
       "      <td>Product</td>\n",
       "      <td>Sharp organized partners meet synergy at Goa i...</td>\n",
       "      <td>Not Available</td>\n",
       "    </tr>\n",
       "    <tr>\n",
       "      <th>2</th>\n",
       "      <td>4</td>\n",
       "      <td>2023-06-30</td>\n",
       "      <td>PCC-PPP</td>\n",
       "      <td>PPP</td>\n",
       "      <td>India</td>\n",
       "      <td>#VALUE!</td>\n",
       "      <td>Product</td>\n",
       "      <td>HP is very aggressively positioning Z6 series ...</td>\n",
       "      <td>Not Available</td>\n",
       "    </tr>\n",
       "  </tbody>\n",
       "</table>\n",
       "</div>"
      ],
      "text/plain": [
       "   index        Date Department Product   Zone    State  Category  \\\n",
       "0      2  2023-06-23    PCC-BIS      CS  India  #VALUE!  Economic   \n",
       "1      3  2023-06-23    PCC-BIS      CS   West  #VALUE!   Product   \n",
       "2      4  2023-06-30    PCC-PPP     PPP  India  #VALUE!   Product   \n",
       "\n",
       "                      Competetor_Product_Information     Attachment  \n",
       "0  Due to Growth in Road Logistics Industry New O...  Not Available  \n",
       "1  Sharp organized partners meet synergy at Goa i...  Not Available  \n",
       "2  HP is very aggressively positioning Z6 series ...  Not Available  "
      ]
     },
     "execution_count": 20,
     "metadata": {},
     "output_type": "execute_result"
    }
   ],
   "source": [
    "# Step5 : Retreiving the same data from the MYSQLdatabase \n",
    "db=connection.connect(host=\"localhost\",database='canonDB',user=\"root\",password=\"1320\",use_pure=True)\n",
    "query=\"Select * from Canon\"\n",
    "df=pd.read_sql(query,db)\n",
    "df.head(3)"
   ]
  },
  {
   "cell_type": "code",
   "execution_count": 21,
   "metadata": {},
   "outputs": [
    {
     "data": {
      "text/plain": [
       "index                              int64\n",
       "Date                              object\n",
       "Department                        object\n",
       "Product                           object\n",
       "Zone                              object\n",
       "State                             object\n",
       "Category                          object\n",
       "Competetor_Product_Information    object\n",
       "Attachment                        object\n",
       "dtype: object"
      ]
     },
     "execution_count": 21,
     "metadata": {},
     "output_type": "execute_result"
    }
   ],
   "source": [
    "df.dtypes"
   ]
  },
  {
   "cell_type": "code",
   "execution_count": 1,
   "metadata": {},
   "outputs": [],
   "source": [
    "db=connection.connect(host=\"localhost\",database='canonDB',user=\"root\",password=\"1320\",use_pure=True)\n",
    "query=\"drop table canon\"\n",
    "df=pd.read_sql(query,db)\n",
    "df.head(3)"
   ]
  },
  {
   "cell_type": "code",
   "execution_count": 5,
   "metadata": {},
   "outputs": [
    {
     "ename": "OSError",
     "evalue": "[WinError 145] The directory is not empty: 'media'",
     "output_type": "error",
     "traceback": [
      "\u001b[1;31m---------------------------------------------------------------------------\u001b[0m",
      "\u001b[1;31mOSError\u001b[0m                                   Traceback (most recent call last)",
      "Cell \u001b[1;32mIn[5], line 1\u001b[0m\n\u001b[1;32m----> 1\u001b[0m os\u001b[39m.\u001b[39;49mrmdir(\u001b[39m'\u001b[39;49m\u001b[39mmedia\u001b[39;49m\u001b[39m'\u001b[39;49m)\n",
      "\u001b[1;31mOSError\u001b[0m: [WinError 145] The directory is not empty: 'media'"
     ]
    }
   ],
   "source": [
    "current_path = os.getcwd()\n",
    "media_path = \n",
    "os.rmdir('media')"
   ]
  },
  {
   "cell_type": "code",
   "execution_count": 2,
   "metadata": {},
   "outputs": [
    {
     "data": {
      "text/html": [
       "<div>\n",
       "<style scoped>\n",
       "    .dataframe tbody tr th:only-of-type {\n",
       "        vertical-align: middle;\n",
       "    }\n",
       "\n",
       "    .dataframe tbody tr th {\n",
       "        vertical-align: top;\n",
       "    }\n",
       "\n",
       "    .dataframe thead th {\n",
       "        text-align: right;\n",
       "    }\n",
       "</style>\n",
       "<table border=\"1\" class=\"dataframe\">\n",
       "  <thead>\n",
       "    <tr style=\"text-align: right;\">\n",
       "      <th></th>\n",
       "      <th>index</th>\n",
       "      <th>Date</th>\n",
       "      <th>Department</th>\n",
       "      <th>Product</th>\n",
       "      <th>Zone</th>\n",
       "      <th>State</th>\n",
       "      <th>Category</th>\n",
       "      <th>Competetor_Product_Information</th>\n",
       "      <th>Attachment</th>\n",
       "    </tr>\n",
       "  </thead>\n",
       "  <tbody>\n",
       "    <tr>\n",
       "      <th>0</th>\n",
       "      <td>0</td>\n",
       "      <td>2023-06-23</td>\n",
       "      <td>PCC-BIS</td>\n",
       "      <td>CS</td>\n",
       "      <td>India</td>\n",
       "      <td>#VALUE!</td>\n",
       "      <td>Economic</td>\n",
       "      <td>Due to Growth in Road Logistics Industry New O...</td>\n",
       "      <td>Not Available</td>\n",
       "    </tr>\n",
       "    <tr>\n",
       "      <th>1</th>\n",
       "      <td>1</td>\n",
       "      <td>2023-06-23</td>\n",
       "      <td>PCC-BIS</td>\n",
       "      <td>CS</td>\n",
       "      <td>West</td>\n",
       "      <td>#VALUE!</td>\n",
       "      <td>Product</td>\n",
       "      <td>Sharp organized partners meet synergy at Goa i...</td>\n",
       "      <td>Not Available</td>\n",
       "    </tr>\n",
       "    <tr>\n",
       "      <th>2</th>\n",
       "      <td>2</td>\n",
       "      <td>2023-06-30</td>\n",
       "      <td>PCC-PPP</td>\n",
       "      <td>PPP</td>\n",
       "      <td>India</td>\n",
       "      <td>#VALUE!</td>\n",
       "      <td>Product</td>\n",
       "      <td>HP is very aggressively positioning Z6 series ...</td>\n",
       "      <td>Not Available</td>\n",
       "    </tr>\n",
       "    <tr>\n",
       "      <th>3</th>\n",
       "      <td>3</td>\n",
       "      <td>2023-06-29</td>\n",
       "      <td>PBC</td>\n",
       "      <td>ICB</td>\n",
       "      <td>East</td>\n",
       "      <td>#VALUE!</td>\n",
       "      <td>Product</td>\n",
       "      <td>Nikon &amp; Sony started promoting Z8 and Zve1 vis...</td>\n",
       "      <td>Not Available</td>\n",
       "    </tr>\n",
       "    <tr>\n",
       "      <th>4</th>\n",
       "      <td>4</td>\n",
       "      <td>2023-06-22</td>\n",
       "      <td>CBC-PPP</td>\n",
       "      <td>PPP</td>\n",
       "      <td>India</td>\n",
       "      <td>#VALUE!</td>\n",
       "      <td>Market footfall</td>\n",
       "      <td>Konica Minolta demo on wheels had good respons...</td>\n",
       "      <td>Not Available</td>\n",
       "    </tr>\n",
       "    <tr>\n",
       "      <th>...</th>\n",
       "      <td>...</td>\n",
       "      <td>...</td>\n",
       "      <td>...</td>\n",
       "      <td>...</td>\n",
       "      <td>...</td>\n",
       "      <td>...</td>\n",
       "      <td>...</td>\n",
       "      <td>...</td>\n",
       "      <td>...</td>\n",
       "    </tr>\n",
       "    <tr>\n",
       "      <th>82</th>\n",
       "      <td>82</td>\n",
       "      <td>2023-07-14</td>\n",
       "      <td>PBC-South</td>\n",
       "      <td>ICB</td>\n",
       "      <td>South</td>\n",
       "      <td>#VALUE!</td>\n",
       "      <td>Product</td>\n",
       "      <td>Sony A7M4 sellout is good in the market.</td>\n",
       "      <td>Not Available</td>\n",
       "    </tr>\n",
       "    <tr>\n",
       "      <th>83</th>\n",
       "      <td>83</td>\n",
       "      <td>2023-07-14</td>\n",
       "      <td>PBC-South</td>\n",
       "      <td>ICB</td>\n",
       "      <td>South</td>\n",
       "      <td>#VALUE!</td>\n",
       "      <td>Product</td>\n",
       "      <td>Sony New model A7R5 stocks reached outlets las...</td>\n",
       "      <td>Not Available</td>\n",
       "    </tr>\n",
       "    <tr>\n",
       "      <th>84</th>\n",
       "      <td>84</td>\n",
       "      <td>2023-07-14</td>\n",
       "      <td>PBC-South</td>\n",
       "      <td>ICB</td>\n",
       "      <td>South</td>\n",
       "      <td>#VALUE!</td>\n",
       "      <td>Product</td>\n",
       "      <td>Sony APS-C stocks likely to hit market post 15...</td>\n",
       "      <td>Not Available</td>\n",
       "    </tr>\n",
       "    <tr>\n",
       "      <th>85</th>\n",
       "      <td>85</td>\n",
       "      <td>2023-07-14</td>\n",
       "      <td>PBC-South</td>\n",
       "      <td>ICB</td>\n",
       "      <td>South</td>\n",
       "      <td>#VALUE!</td>\n",
       "      <td>Product</td>\n",
       "      <td>Nikon Z8 stocks are available in market but no...</td>\n",
       "      <td>Not Available</td>\n",
       "    </tr>\n",
       "    <tr>\n",
       "      <th>86</th>\n",
       "      <td>86</td>\n",
       "      <td>2023-07-14</td>\n",
       "      <td>PBC-South</td>\n",
       "      <td>CS</td>\n",
       "      <td>South</td>\n",
       "      <td>#VALUE!</td>\n",
       "      <td>Product</td>\n",
       "      <td>Epson distributors are reducing L series prici...</td>\n",
       "      <td>Not Available</td>\n",
       "    </tr>\n",
       "  </tbody>\n",
       "</table>\n",
       "<p>87 rows × 9 columns</p>\n",
       "</div>"
      ],
      "text/plain": [
       "    index       Date Department Product   Zone    State         Category  \\\n",
       "0       0 2023-06-23    PCC-BIS      CS  India  #VALUE!         Economic   \n",
       "1       1 2023-06-23    PCC-BIS      CS   West  #VALUE!          Product   \n",
       "2       2 2023-06-30    PCC-PPP     PPP  India  #VALUE!          Product   \n",
       "3       3 2023-06-29        PBC     ICB   East  #VALUE!          Product   \n",
       "4       4 2023-06-22    CBC-PPP     PPP  India  #VALUE!  Market footfall   \n",
       "..    ...        ...        ...     ...    ...      ...              ...   \n",
       "82     82 2023-07-14  PBC-South     ICB  South  #VALUE!          Product   \n",
       "83     83 2023-07-14  PBC-South     ICB  South  #VALUE!          Product   \n",
       "84     84 2023-07-14  PBC-South     ICB  South  #VALUE!          Product   \n",
       "85     85 2023-07-14  PBC-South     ICB  South  #VALUE!          Product   \n",
       "86     86 2023-07-14  PBC-South      CS  South  #VALUE!          Product   \n",
       "\n",
       "                       Competetor_Product_Information     Attachment  \n",
       "0   Due to Growth in Road Logistics Industry New O...  Not Available  \n",
       "1   Sharp organized partners meet synergy at Goa i...  Not Available  \n",
       "2   HP is very aggressively positioning Z6 series ...  Not Available  \n",
       "3   Nikon & Sony started promoting Z8 and Zve1 vis...  Not Available  \n",
       "4   Konica Minolta demo on wheels had good respons...  Not Available  \n",
       "..                                                ...            ...  \n",
       "82           Sony A7M4 sellout is good in the market.  Not Available  \n",
       "83  Sony New model A7R5 stocks reached outlets las...  Not Available  \n",
       "84  Sony APS-C stocks likely to hit market post 15...  Not Available  \n",
       "85  Nikon Z8 stocks are available in market but no...  Not Available  \n",
       "86  Epson distributors are reducing L series prici...  Not Available  \n",
       "\n",
       "[87 rows x 9 columns]"
      ]
     },
     "execution_count": 2,
     "metadata": {},
     "output_type": "execute_result"
    }
   ],
   "source": [
    "import pandas as pd \n",
    "from dateutil.parser import parse\n",
    "df = pd.read_csv('.\\\\Canon Open Source Data\\\\knowledgeBase.csv')\n",
    "df['Date'] = [parse(df.loc[i].Date) for i in range(df.shape[0])]\n",
    "# df.drop('Unnamed: 0', axis=1, inplace=True)\n",
    "df"
   ]
  },
  {
   "cell_type": "code",
   "execution_count": 9,
   "metadata": {},
   "outputs": [
    {
     "data": {
      "text/plain": [
       "ICB      37\n",
       "PPP      24\n",
       "CS       23\n",
       "Laser     3\n",
       "Name: Product, dtype: int64"
      ]
     },
     "execution_count": 9,
     "metadata": {},
     "output_type": "execute_result"
    }
   ],
   "source": [
    "df.Product.value_counts()"
   ]
  },
  {
   "cell_type": "code",
   "execution_count": 12,
   "metadata": {},
   "outputs": [
    {
     "data": {
      "text/plain": [
       "North    12\n",
       "India     3\n",
       "South     2\n",
       "Name: Zone, dtype: int64"
      ]
     },
     "execution_count": 12,
     "metadata": {},
     "output_type": "execute_result"
    }
   ],
   "source": [
    "df.loc[df.Date==\"30-Jun-23\"].Zone.value_counts()"
   ]
  },
  {
   "cell_type": "code",
   "execution_count": 2,
   "metadata": {},
   "outputs": [],
   "source": [
    "import os\n",
    "import pandas as pd\n",
    "from dotenv import load_dotenv\n",
    "from langchain.chat_models import ChatOpenAI\n",
    "from langchain.agents import create_sql_agent\n",
    "from langchain.sql_database import SQLDatabase\n",
    "from langchain.agents.agent_toolkits import SQLDatabaseToolkit"
   ]
  },
  {
   "cell_type": "code",
   "execution_count": 3,
   "metadata": {},
   "outputs": [],
   "source": [
    "class SQLQuery:\n",
    "    def __init__(self):\n",
    "        self.DB_USERNAME = os.getenv('DB_USERNAME')\n",
    "        self.DB_PASSWORD = os.getenv('DB_PASSWORD')\n",
    "        self.DB_HOST = os.getenv('DB_HOST')\n",
    "        self.DB_NAME = os.getenv('DB_NAME')\n",
    "\n",
    "    def createDBConnectionString(self):\n",
    "        db_user = self.DB_USERNAME\n",
    "        db_Password  = self.DB_PASSWORD\n",
    "        db_host = self.DB_HOST\n",
    "        db_name = self.DB_NAME\n",
    "        connectionString = f\"mysql+pymysql://{db_user}:{db_Password}@{db_host}/{db_name}\"\n",
    "        return connectionString\n",
    "    \n",
    "    def getSQLSchema(self):\n",
    "        sql_query = f\"\"\"  \n",
    "        SELECT C.TABLE_NAME, C.COLUMN_NAME, C.DATA_TYPE, T.TABLE_TYPE, T.TABLE_SCHEMA  \n",
    "        FROM INFORMATION_SCHEMA.COLUMNS C  \n",
    "        JOIN INFORMATION_SCHEMA.TABLES T ON C.TABLE_NAME = T.TABLE_NAME AND C.TABLE_SCHEMA = T.TABLE_SCHEMA  \n",
    "        WHERE T.TABLE_SCHEMA = '{self.DB_NAME}' \n",
    "        \"\"\" \n",
    "        mysql_connection_string = self.createDBConnectionString()\n",
    "        result = pd.read_sql_query(sql_query, mysql_connection_string)\n",
    "        df = result.infer_objects()\n",
    "        output=[]\n",
    "        current_table = ''  \n",
    "        columns = []  \n",
    "        for index, row in df.iterrows():\n",
    "            table_name = f\"{row['TABLE_SCHEMA']}.{row['TABLE_NAME']}\"  \n",
    "            column_name = row['COLUMN_NAME']  \n",
    "            data_type = row['DATA_TYPE']  \n",
    "            if \" \" in table_name:\n",
    "                table_name= f\"[{table_name}]\" \n",
    "            column_name = row['COLUMN_NAME']  \n",
    "            if \" \" in column_name:\n",
    "                column_name= f\"[{column_name}]\" \n",
    "                # If the table name has changed, output the previous table's information  \n",
    "            if current_table != table_name and current_table != '':  \n",
    "                output.append(f\"table: {current_table}, columns: {', '.join(columns)}\")  \n",
    "                columns = []  \n",
    "            \n",
    "            # Add the current column information to the list of columns for the current table  \n",
    "            columns.append(f\"{column_name} {data_type}\")  \n",
    "            \n",
    "            # Update the current table name  \n",
    "            current_table = table_name  \n",
    "\n",
    "        # Output the last table's information  \n",
    "        output.append(f\"table: {current_table}, columns: {', '.join(columns)}\")\n",
    "        output = \"\\n \".join(output)\n",
    "\n",
    "        return output"
   ]
  },
  {
   "cell_type": "code",
   "execution_count": 7,
   "metadata": {},
   "outputs": [
    {
     "data": {
      "text/plain": [
       "'table: canondb.canon, columns: index int, Date date, Department varchar, Product varchar, Zone varchar, State varchar, Category varchar, Competetor_Product_Information varchar, Attachment varchar'"
      ]
     },
     "execution_count": 7,
     "metadata": {},
     "output_type": "execute_result"
    }
   ],
   "source": [
    "obj = SQLQuery()\n",
    "conn_string = obj.createDBConnectionString()\n",
    "df = obj.getSQLSchema()\n",
    "df"
   ]
  },
  {
   "cell_type": "markdown",
   "metadata": {},
   "source": [
    "## VectorDB"
   ]
  },
  {
   "cell_type": "code",
   "execution_count": 1,
   "metadata": {},
   "outputs": [
    {
     "name": "stderr",
     "output_type": "stream",
     "text": [
      "c:\\Users\\krish\\anaconda3\\envs\\project_env\\lib\\site-packages\\pinecone\\index.py:4: TqdmWarning: IProgress not found. Please update jupyter and ipywidgets. See https://ipywidgets.readthedocs.io/en/stable/user_install.html\n",
      "  from tqdm.autonotebook import tqdm\n"
     ]
    }
   ],
   "source": [
    "import os \n",
    "import time\n",
    "import pinecone as pc\n",
    "from dotenv import load_dotenv\n",
    "from langchain.vectorstores import FAISS, Pinecone\n",
    "from langchain.embeddings import HuggingFaceEmbeddings\n",
    "from langchain.embeddings.openai import OpenAIEmbeddings\n",
    "from langchain.text_splitter import RecursiveCharacterTextSplitter, TextSplitter\n",
    "from langchain.document_loaders import PyPDFLoader, DirectoryLoader\n",
    "\n",
    "load_dotenv()\n",
    "\n",
    "class Data:\n",
    "    def __init__(self, pdf_data_path, vector_db_path):\n",
    "        self.pdf_data_path = pdf_data_path\n",
    "        self.vector_db_path = vector_db_path\n",
    "        self.pinecone_api_key = os.getenv('PINECONE_KEY')\n",
    "        self.pinecone_env = os.getenv('PINECONE_ENV')\n",
    "        self.embedding_model = HuggingFaceEmbeddings(model_name='sentence-transformers/all-MiniLM-L6-v2')\n",
    "        self.openai_embedding_model = OpenAIEmbeddings(model='text-embedding-ada-002',\n",
    "                                                       openai_api_key=os.getenv('OPENAI_KEY'))\n",
    "\n",
    "    def createPDFVectorDBwithFAISS(self):\n",
    "        loader = DirectoryLoader(self.pdf_data_path, glob='*.pdf', loader_cls=PyPDFLoader,\n",
    "                                use_multithreading=True, show_progress=True)\n",
    "        docs = loader.load()\n",
    "        # text_splitter  = RecursiveCharacterTextSplitter(chunk_size = 2000, chunk_overlap=400, \n",
    "        #                                                 separators=[\"\\n\\n\", \"\\n\", \" \", \"\"])\n",
    "        # texts = text_splitter.split_documents(docs)\n",
    "        db = FAISS.from_documents(docs, self.embedding_model)\n",
    "        db.save_local(self.vector_db_path)\n",
    "\n",
    "    def create_top_k_chunk_from_FAISS(self, question, top_k):\n",
    "        test_idex = FAISS.load_local(self.vector_db_path,self.embedding_model)\n",
    "        top_k_chunks  = test_idex.similarity_search(question,k=top_k)\n",
    "        return top_k_chunks\n",
    "    \n",
    "\n",
    "    def createPDFVectorDBwithPinecone(self):\n",
    "        loader = DirectoryLoader(self.pdf_data_path, glob='*.pdf', loader_cls=PyPDFLoader,\n",
    "                                use_multithreading=True, show_progress=True)\n",
    "        docs = loader.load()\n",
    "        text_splitter  = RecursiveCharacterTextSplitter(chunk_size = 500, chunk_overlap=100, \n",
    "                                                        separators=[\"\\n\\n\", \"\\n\", \" \", \"\"])\n",
    "        texts = text_splitter.split_documents(docs)\n",
    "        embeddings = []\n",
    "        ids = []\n",
    "        metadatas = []\n",
    "        for i in range(len(texts)):\n",
    "            if i%5==0:\n",
    "                time.sleep(5)\n",
    "            page_content = texts[i].page_content\n",
    "            source_pdf = texts[i].metadata['source'].split('\\\\')[-1]\n",
    "            page_number = str(texts[i].metadata['page'])\n",
    "            embedded_page_content = self.openai_embedding_model.embed_query(page_content)\n",
    "            metadata = {\n",
    "                'source' : source_pdf,\n",
    "                'page' : page_number,\n",
    "                'page_content' : page_content\n",
    "            }\n",
    "            ids.append(str(i))\n",
    "            embeddings.append(embedded_page_content)\n",
    "            metadatas.append(metadata)\n",
    "\n",
    "        pc.init(api_key=self.pinecone_api_key, environment=self.pinecone_env)\n",
    "        index = pc.Index('pdf-index')\n",
    "        index.upsert(vectors = zip(ids, embeddings, metadatas))\n",
    "\n",
    "\n",
    "    def create_top_k_chunk_from_Pinecone(self, question, top_k):\n",
    "        pc.init(api_key=self.pinecone_api_key, environment=self.pinecone_env)\n",
    "        index = pc.Index('pdf-index')\n",
    "        #embedded_question = self.embedding_model.embed_query(question)\n",
    "        vectorstore = Pinecone( index, self.openai_embedding_model.embed_query, text_key='page_content')\n",
    "        top_k_chunks = vectorstore.similarity_search(question, k=top_k)\n",
    "        #result = index.query(embedded_question, top_k = top_k, includeMetaData=True)\n",
    "        return top_k_chunks"
   ]
  },
  {
   "cell_type": "code",
   "execution_count": 4,
   "metadata": {},
   "outputs": [
    {
     "name": "stderr",
     "output_type": "stream",
     "text": [
      "c:\\Users\\krish\\anaconda3\\envs\\project_env\\lib\\site-packages\\langchain\\vectorstores\\pinecone.py:61: UserWarning: Passing in `embedding` as a Callable is deprecated. Please pass in an Embeddings object instead.\n",
      "  warnings.warn(\n"
     ]
    }
   ],
   "source": [
    "pdf_data_path = \".\\\\media\"\n",
    "pdf_vector_embedding_path = \".\\\\VectorDB\"\n",
    "data_obj = Data(pdf_data_path,pdf_vector_embedding_path)\n",
    "#data_obj.createPDFVectorDBwithPinecone()\n",
    "test_question = \"Find the cost of Sony ZV-E1 Full Frame camera\"\n",
    "result = data_obj.create_top_k_chunk_from_Pinecone(test_question, top_k =3)\n",
    "# print(result[0].metadata['source'])\n",
    "# print(result[0].metadata['page'])"
   ]
  },
  {
   "cell_type": "markdown",
   "metadata": {},
   "source": [
    "## Model"
   ]
  },
  {
   "cell_type": "code",
   "execution_count": 5,
   "metadata": {},
   "outputs": [],
   "source": [
    "import os \n",
    "import re\n",
    "import openai\n",
    "from dotenv import load_dotenv\n",
    "from langchain.chains import LLMChain\n",
    "from langchain.schema import SystemMessage\n",
    "from langchain.chat_models import ChatOpenAI\n",
    "from langchain.memory import ConversationBufferWindowMemory\n",
    "from langchain.prompts import ChatPromptTemplate, HumanMessagePromptTemplate, MessagesPlaceholder\n",
    "from langchain.chains import LLMChain\n",
    "from langchain.llms import OpenAI\n",
    "from langchain.chains import ConversationalRetrievalChain\n",
    "from langchain.memory import ConversationBufferWindowMemory,ConversationBufferMemory,ConversationSummaryMemory\n",
    "from langchain.prompts import PromptTemplate\n",
    "from langchain.chat_models import ChatOpenAI\n",
    "from langchain.schema import SystemMessage\n",
    "from langchain.prompts import ChatPromptTemplate, HumanMessagePromptTemplate, MessagesPlaceholder\n",
    "\n",
    "load_dotenv()\n",
    "\n",
    "class Model:\n",
    "    def __init__(self):\n",
    "        self.openai_api_key = os.getenv(\"OPENAI_KEY\")\n",
    "        self.model = 'text-davinci-003'\n",
    "\n",
    "    def createQuestionPrompt(self, top_k_chunks):\n",
    "        prompt= \"\"\n",
    "        prompt += 'search results:\\n\\n'\n",
    "        for i in range(len(top_k_chunks)):\n",
    "            meta_info = '['+top_k_chunks[i].metadata['source'].split('\\\\')[-1] + \" , page : \" + str(top_k_chunks[i].metadata['page'])+'] '\n",
    "            page_content = top_k_chunks[i].page_content.replace('\\n', ' ')\n",
    "            page_content = re.sub('\\s+', ' ', page_content)\n",
    "            combined_content = meta_info + page_content\n",
    "            prompt += combined_content +'\\n\\n'\n",
    "        prompt += '''Instructions: Compose a comprehensive reply to the query using the search results given.\n",
    "                    Cite each reference using [pdfname.pdf , page : number] notation (every result has this number at the beginning).\n",
    "                    Citation should be done at the end of each sentence. If the search results mention multiple subjects\n",
    "                    with the same name, create separate answers for each. Only include information found in the results and\n",
    "                    don't add any additional information. Make sure the answer is correct and don't output false content.\n",
    "                    If the text does not relate to the query, simply state 'Found Nothing'. Don't write 'Answer:'\n",
    "                    Directly start the answer.\\n'''.replace('\\\\n',' ')\n",
    "        # prompt+= f\"Query : {question} \\n\\n\"\n",
    "\n",
    "        prompt_template = ChatPromptTemplate.from_messages([\n",
    "                    SystemMessage(content=f\"You are a QnA Chatbot whose job is to greet the user politely and asnwer to the question they ask.\"+prompt), \n",
    "                    MessagesPlaceholder(variable_name=\"chat_history\"),         # Where the memory will be stored.\n",
    "                    HumanMessagePromptTemplate.from_template(\"{human_input}\"), # Where the human input will injected\n",
    "                 ])\n",
    "        return prompt_template\n",
    "\n",
    "    def generateAnswer(self, prompt):\n",
    "        openai.api_key = self.openai_api_key\n",
    "        completions = openai.Completion.create(\n",
    "            engine=self.model,\n",
    "            prompt=prompt,\n",
    "            max_tokens=1024,\n",
    "            temperature=0,\n",
    "        )\n",
    "        answer = completions.choices[0]['text']\n",
    "        return answer\n",
    "    \n",
    "    def generateAnswerwithMemory(self,question,prompt_template):\n",
    "        memory = ConversationBufferWindowMemory(memory_key=\"chat_history\", return_messages=True, k=5)\n",
    "        llm = ChatOpenAI( openai_api_key = os.getenv(\"OPENAI_KEY\"))\n",
    "        llm_chain = LLMChain(\n",
    "            llm=llm,\n",
    "            prompt=prompt_template,\n",
    "            verbose=True,\n",
    "            memory=memory,\n",
    "        )\n",
    "        response = llm_chain.predict(human_input = question)\n",
    "        return response\n",
    "\n"
   ]
  },
  {
   "cell_type": "code",
   "execution_count": 6,
   "metadata": {},
   "outputs": [
    {
     "ename": "KeyError",
     "evalue": "'page'",
     "output_type": "error",
     "traceback": [
      "\u001b[1;31m---------------------------------------------------------------------------\u001b[0m",
      "\u001b[1;31mKeyError\u001b[0m                                  Traceback (most recent call last)",
      "\u001b[1;32mc:\\Users\\krish\\OneDrive\\Desktop\\Study\\Gen AI\\Multi-PDF-QnA-Bot\\test.ipynb Cell 27\u001b[0m line \u001b[0;36m3\n\u001b[0;32m      <a href='vscode-notebook-cell:/c%3A/Users/krish/OneDrive/Desktop/Study/Gen%20AI/Multi-PDF-QnA-Bot/test.ipynb#X35sZmlsZQ%3D%3D?line=0'>1</a>\u001b[0m model_obj \u001b[39m=\u001b[39m Model()\n\u001b[0;32m      <a href='vscode-notebook-cell:/c%3A/Users/krish/OneDrive/Desktop/Study/Gen%20AI/Multi-PDF-QnA-Bot/test.ipynb#X35sZmlsZQ%3D%3D?line=1'>2</a>\u001b[0m top_k_chunks \u001b[39m=\u001b[39m result\n\u001b[1;32m----> <a href='vscode-notebook-cell:/c%3A/Users/krish/OneDrive/Desktop/Study/Gen%20AI/Multi-PDF-QnA-Bot/test.ipynb#X35sZmlsZQ%3D%3D?line=2'>3</a>\u001b[0m prompt_template \u001b[39m=\u001b[39m model_obj\u001b[39m.\u001b[39;49mcreateQuestionPrompt(top_k_chunks\u001b[39m=\u001b[39;49mtop_k_chunks)\n\u001b[0;32m      <a href='vscode-notebook-cell:/c%3A/Users/krish/OneDrive/Desktop/Study/Gen%20AI/Multi-PDF-QnA-Bot/test.ipynb#X35sZmlsZQ%3D%3D?line=3'>4</a>\u001b[0m test_question \u001b[39m=\u001b[39m \u001b[39m\"\u001b[39m\u001b[39mFind the cost of Sony ZV-E1 Full Frame camera\u001b[39m\u001b[39m\"\u001b[39m\n\u001b[0;32m      <a href='vscode-notebook-cell:/c%3A/Users/krish/OneDrive/Desktop/Study/Gen%20AI/Multi-PDF-QnA-Bot/test.ipynb#X35sZmlsZQ%3D%3D?line=4'>5</a>\u001b[0m ans \u001b[39m=\u001b[39m model_obj\u001b[39m.\u001b[39mgenerateAnswerwithMemory(question \u001b[39m=\u001b[39m test_question, prompt_template\u001b[39m=\u001b[39mprompt_template)\n",
      "\u001b[1;32mc:\\Users\\krish\\OneDrive\\Desktop\\Study\\Gen AI\\Multi-PDF-QnA-Bot\\test.ipynb Cell 27\u001b[0m line \u001b[0;36m3\n\u001b[0;32m     <a href='vscode-notebook-cell:/c%3A/Users/krish/OneDrive/Desktop/Study/Gen%20AI/Multi-PDF-QnA-Bot/test.ipynb#X35sZmlsZQ%3D%3D?line=27'>28</a>\u001b[0m prompt \u001b[39m+\u001b[39m\u001b[39m=\u001b[39m \u001b[39m'\u001b[39m\u001b[39msearch results:\u001b[39m\u001b[39m\\n\u001b[39;00m\u001b[39m\\n\u001b[39;00m\u001b[39m'\u001b[39m\n\u001b[0;32m     <a href='vscode-notebook-cell:/c%3A/Users/krish/OneDrive/Desktop/Study/Gen%20AI/Multi-PDF-QnA-Bot/test.ipynb#X35sZmlsZQ%3D%3D?line=28'>29</a>\u001b[0m \u001b[39mfor\u001b[39;00m i \u001b[39min\u001b[39;00m \u001b[39mrange\u001b[39m(\u001b[39mlen\u001b[39m(top_k_chunks)):\n\u001b[1;32m---> <a href='vscode-notebook-cell:/c%3A/Users/krish/OneDrive/Desktop/Study/Gen%20AI/Multi-PDF-QnA-Bot/test.ipynb#X35sZmlsZQ%3D%3D?line=29'>30</a>\u001b[0m     meta_info \u001b[39m=\u001b[39m \u001b[39m'\u001b[39m\u001b[39m[\u001b[39m\u001b[39m'\u001b[39m\u001b[39m+\u001b[39mtop_k_chunks[i]\u001b[39m.\u001b[39mmetadata[\u001b[39m'\u001b[39m\u001b[39msource\u001b[39m\u001b[39m'\u001b[39m]\u001b[39m.\u001b[39msplit(\u001b[39m'\u001b[39m\u001b[39m\\\\\u001b[39;00m\u001b[39m'\u001b[39m)[\u001b[39m-\u001b[39m\u001b[39m1\u001b[39m] \u001b[39m+\u001b[39m \u001b[39m\"\u001b[39m\u001b[39m , page : \u001b[39m\u001b[39m\"\u001b[39m \u001b[39m+\u001b[39m \u001b[39mstr\u001b[39m(top_k_chunks[i]\u001b[39m.\u001b[39;49mmetadata[\u001b[39m'\u001b[39;49m\u001b[39mpage\u001b[39;49m\u001b[39m'\u001b[39;49m])\u001b[39m+\u001b[39m\u001b[39m'\u001b[39m\u001b[39m] \u001b[39m\u001b[39m'\u001b[39m\n\u001b[0;32m     <a href='vscode-notebook-cell:/c%3A/Users/krish/OneDrive/Desktop/Study/Gen%20AI/Multi-PDF-QnA-Bot/test.ipynb#X35sZmlsZQ%3D%3D?line=30'>31</a>\u001b[0m     page_content \u001b[39m=\u001b[39m top_k_chunks[i]\u001b[39m.\u001b[39mpage_content\u001b[39m.\u001b[39mreplace(\u001b[39m'\u001b[39m\u001b[39m\\n\u001b[39;00m\u001b[39m'\u001b[39m, \u001b[39m'\u001b[39m\u001b[39m \u001b[39m\u001b[39m'\u001b[39m)\n\u001b[0;32m     <a href='vscode-notebook-cell:/c%3A/Users/krish/OneDrive/Desktop/Study/Gen%20AI/Multi-PDF-QnA-Bot/test.ipynb#X35sZmlsZQ%3D%3D?line=31'>32</a>\u001b[0m     page_content \u001b[39m=\u001b[39m re\u001b[39m.\u001b[39msub(\u001b[39m'\u001b[39m\u001b[39m\\\u001b[39m\u001b[39ms+\u001b[39m\u001b[39m'\u001b[39m, \u001b[39m'\u001b[39m\u001b[39m \u001b[39m\u001b[39m'\u001b[39m, page_content)\n",
      "\u001b[1;31mKeyError\u001b[0m: 'page'"
     ]
    }
   ],
   "source": [
    "model_obj = Model()\n",
    "top_k_chunks = result\n",
    "prompt_template = model_obj.createQuestionPrompt(top_k_chunks=top_k_chunks)\n",
    "test_question = \"Find the cost of Sony ZV-E1 Full Frame camera\"\n",
    "ans = model_obj.generateAnswerwithMemory(question = test_question, prompt_template=prompt_template)"
   ]
  },
  {
   "cell_type": "code",
   "execution_count": 90,
   "metadata": {},
   "outputs": [
    {
     "data": {
      "text/plain": [
       "'The cost of the Sony ZV-E1 Full Frame camera is MRP: Rs. 214,990. However, it is currently available at an Amazon Offer Price of Rs. 1,88,990 [Sony ZV-E1 Full-Frame Interchangeable-Lens Mirrorless vlog Camera.pdf, page: 0].'"
      ]
     },
     "execution_count": 90,
     "metadata": {},
     "output_type": "execute_result"
    }
   ],
   "source": [
    "ans"
   ]
  },
  {
   "cell_type": "code",
   "execution_count": 83,
   "metadata": {},
   "outputs": [
    {
     "name": "stdout",
     "output_type": "stream",
     "text": [
      "\n",
      "\n",
      "\u001b[1m> Entering new LLMChain chain...\u001b[0m\n",
      "Prompt after formatting:\n",
      "\u001b[32;1m\u001b[1;3mSystem: You are a QnA Chatbot whose job is to greet the user politely and asnwer to the question they ask.search results:\n",
      "\n",
      "[Sony ZV-E1 Full-Frame Interchangeable-Lens Mirrorless vlog Camera.pdf , page : 1]  Technical Details: Brand Sony Manufacturer Sony, Sony Corporation, 1 -7-1 Konan, Minato -KU, Tokyo 108 -0075, Japan Model ZV-E1/BQ IN5 Model Name ZV-E1 Model Year 2023 Product Dimensions 5.43 x 12.1 x 7.19 cm; 483 Grams Batteries 1 Lithium Ion batteries required. (included) Item model number ZV-E1/BQ IN5 Memory Slots Available 1 Compatible Devices Laptop, Desktop, Tablet, Smartphone Special Features Face Detection Mounting Hardware Camera, Rechargeable Battery NP -FZ100, Shoulder strap, Wind Screen, Wind Screen Adapter, Body cap, Accessory shoe cap Number of items 1 Standing screen display size \n",
      "\n",
      "[Sony ZV-E1 Full-Frame Interchangeable-Lens Mirrorless vlog Camera.pdf , page : 0] Sony ZV -E1 Full -Frame Interchangeable -Lens Mirrorless vlog Camera Working with the ZV -E1's 12.1 MP2 full -frame sensor, the latest BIONZ XR ™ engine provides high - speed processing to support 4K 60p, 120p upgradable recording, while an AI processing unit improves subject -recognition capabilities for advanced vlogging applications. About this item 12.1 MP full -frame back -illuminated CMOS Exmor R image sensor Advanced BIONZ XR image processing engine An AI processing unit for wider, more accurate subject recognition The world's most compact, lightweight full -frame camera with interchangeable lenses Intelligent 3 -Capsule Microphone ZV-E1 can be used with all E -mount lenses, including the superlative G Master series with its stunning resolution and world -class bokeh. A choice of focal lengths ranging from 12 mm to 1200 mm5 gives users outstanding creative control. By using Cinematic Vlog Setting6 and choosing a Look and Mood7, you can create cinematic vlog footage that matches the scene and your creative intent. 5-axis i n-body image stabilization, Dynamic active Mode, and Framing Stabilizer Using AI -based subject recognition technology, the Auto Framing feature automatically crops the frame to keep the subject in a prominent position when shooting movies. ZV-E1 uses subje ct form data to accurately recognize movement, providing an improvement of approx. 60% in human eye recognition. The Intelligent 3 Capsule Microphone captures clear audio, including the voice of your main subject. Price: MRP:Rs. 214,990 Amazon Offer Price: Rs. 1,88,990 \n",
      "\n",
      "[Sony ZV-E1 Full-Frame Interchangeable-Lens Mirrorless vlog Camera.pdf , page : 5] The Sony ZV -E1 is great for travel photography, especially if you don't mind shooting without a viewfinder. It's very compact and portable for a full -frame camera, though it still isn't the option to get if portability is your main priority since full -frame lenses can still add some bulk. On the upside, it has an amazing battery life and captures stunning images, with particularly good low -light performance. Its autofocus system is also remarkably reliable and accurate, with a sophisticated subject detection and tracking feature. That said, its ergonomics leave a little to be desired, particularly if you have larger hands. The Sony ZV -E1 is the first full -fram e camera from Sony dedicated specifically to vlogging and content creation. Like many of its ZV series predecessors, it has a fully articulated screen, no viewfinder, and an improved internal microphone, complete with a detachable \"dead cat\" windscreen. Bu t it stands out among vlogging cameras not only for its full -frame sensor and in -body image stabilization but also for its slew of auto -shooting modes and AI -powered features that seem designed to make this a one-stop vlog shop. Pros: Very compact for a full -frame camera. Excellent battery life. Amazing AI -powered autofocus. Superb image quality. Cons: No viewfinder. Ergonomics aren't the best. Overheating issues. \n",
      "\n",
      "Instructions: Compose a comprehensive reply to the query using the search results given.\n",
      "                    Cite each reference using [pdfname.pdf , page : number] notation (every result has this number at the beginning).\n",
      "                    Citation should be done at the end of each sentence. If the search results mention multiple subjects\n",
      "                    with the same name, create separate answers for each. Only include information found in the results and\n",
      "                    don't add any additional information. Make sure the answer is correct and don't output false content.\n",
      "                    If the text does not relate to the query, simply state 'Found Nothing'. Don't write 'Answer:'\n",
      "                    Directly start the answer.\n",
      "\n",
      "Human: Find cons of the camera\u001b[0m\n",
      "\n",
      "\u001b[1m> Finished chain.\u001b[0m\n"
     ]
    }
   ],
   "source": [
    "test_question = \"Find cons of the camera\"\n",
    "ans = model_obj.generateAnswerwithMemory(question = test_question, prompt_template=prompt_template)\n"
   ]
  },
  {
   "cell_type": "code",
   "execution_count": 84,
   "metadata": {},
   "outputs": [
    {
     "data": {
      "text/plain": [
       "\"Cons of the Sony ZV-E1 camera include the lack of a viewfinder, which may make it less suitable for users who prefer to compose their shots using a viewfinder [Sony ZV-E1 Full-Frame Interchangeable-Lens Mirrorless vlog Camera.pdf, page: 5]. The camera's ergonomics may not be the best, particularly for users with larger hands [Sony ZV-E1 Full-Frame Interchangeable-Lens Mirrorless vlog Camera.pdf, page: 5]. Additionally, the camera may experience overheating issues [Sony ZV-E1 Full-Frame Interchangeable-Lens Mirrorless vlog Camera.pdf, page: 5].\""
      ]
     },
     "execution_count": 84,
     "metadata": {},
     "output_type": "execute_result"
    }
   ],
   "source": [
    "ans"
   ]
  },
  {
   "cell_type": "code",
   "execution_count": 85,
   "metadata": {},
   "outputs": [
    {
     "name": "stdout",
     "output_type": "stream",
     "text": [
      "\n",
      "\n",
      "\u001b[1m> Entering new LLMChain chain...\u001b[0m\n",
      "Prompt after formatting:\n",
      "\u001b[32;1m\u001b[1;3mSystem: You are a QnA Chatbot whose job is to greet the user politely and asnwer to the question they ask.search results:\n",
      "\n",
      "[Sony ZV-E1 Full-Frame Interchangeable-Lens Mirrorless vlog Camera.pdf , page : 1]  Technical Details: Brand Sony Manufacturer Sony, Sony Corporation, 1 -7-1 Konan, Minato -KU, Tokyo 108 -0075, Japan Model ZV-E1/BQ IN5 Model Name ZV-E1 Model Year 2023 Product Dimensions 5.43 x 12.1 x 7.19 cm; 483 Grams Batteries 1 Lithium Ion batteries required. (included) Item model number ZV-E1/BQ IN5 Memory Slots Available 1 Compatible Devices Laptop, Desktop, Tablet, Smartphone Special Features Face Detection Mounting Hardware Camera, Rechargeable Battery NP -FZ100, Shoulder strap, Wind Screen, Wind Screen Adapter, Body cap, Accessory shoe cap Number of items 1 Standing screen display size \n",
      "\n",
      "[Sony ZV-E1 Full-Frame Interchangeable-Lens Mirrorless vlog Camera.pdf , page : 0] Sony ZV -E1 Full -Frame Interchangeable -Lens Mirrorless vlog Camera Working with the ZV -E1's 12.1 MP2 full -frame sensor, the latest BIONZ XR ™ engine provides high - speed processing to support 4K 60p, 120p upgradable recording, while an AI processing unit improves subject -recognition capabilities for advanced vlogging applications. About this item 12.1 MP full -frame back -illuminated CMOS Exmor R image sensor Advanced BIONZ XR image processing engine An AI processing unit for wider, more accurate subject recognition The world's most compact, lightweight full -frame camera with interchangeable lenses Intelligent 3 -Capsule Microphone ZV-E1 can be used with all E -mount lenses, including the superlative G Master series with its stunning resolution and world -class bokeh. A choice of focal lengths ranging from 12 mm to 1200 mm5 gives users outstanding creative control. By using Cinematic Vlog Setting6 and choosing a Look and Mood7, you can create cinematic vlog footage that matches the scene and your creative intent. 5-axis i n-body image stabilization, Dynamic active Mode, and Framing Stabilizer Using AI -based subject recognition technology, the Auto Framing feature automatically crops the frame to keep the subject in a prominent position when shooting movies. ZV-E1 uses subje ct form data to accurately recognize movement, providing an improvement of approx. 60% in human eye recognition. The Intelligent 3 Capsule Microphone captures clear audio, including the voice of your main subject. Price: MRP:Rs. 214,990 Amazon Offer Price: Rs. 1,88,990 \n",
      "\n",
      "[Sony ZV-E1 Full-Frame Interchangeable-Lens Mirrorless vlog Camera.pdf , page : 5] The Sony ZV -E1 is great for travel photography, especially if you don't mind shooting without a viewfinder. It's very compact and portable for a full -frame camera, though it still isn't the option to get if portability is your main priority since full -frame lenses can still add some bulk. On the upside, it has an amazing battery life and captures stunning images, with particularly good low -light performance. Its autofocus system is also remarkably reliable and accurate, with a sophisticated subject detection and tracking feature. That said, its ergonomics leave a little to be desired, particularly if you have larger hands. The Sony ZV -E1 is the first full -fram e camera from Sony dedicated specifically to vlogging and content creation. Like many of its ZV series predecessors, it has a fully articulated screen, no viewfinder, and an improved internal microphone, complete with a detachable \"dead cat\" windscreen. Bu t it stands out among vlogging cameras not only for its full -frame sensor and in -body image stabilization but also for its slew of auto -shooting modes and AI -powered features that seem designed to make this a one-stop vlog shop. Pros: Very compact for a full -frame camera. Excellent battery life. Amazing AI -powered autofocus. Superb image quality. Cons: No viewfinder. Ergonomics aren't the best. Overheating issues. \n",
      "\n",
      "Instructions: Compose a comprehensive reply to the query using the search results given.\n",
      "                    Cite each reference using [pdfname.pdf , page : number] notation (every result has this number at the beginning).\n",
      "                    Citation should be done at the end of each sentence. If the search results mention multiple subjects\n",
      "                    with the same name, create separate answers for each. Only include information found in the results and\n",
      "                    don't add any additional information. Make sure the answer is correct and don't output false content.\n",
      "                    If the text does not relate to the query, simply state 'Found Nothing'. Don't write 'Answer:'\n",
      "                    Directly start the answer.\n",
      "\n",
      "Human: Provide me a summary of the user reviews ?\u001b[0m\n",
      "\n",
      "\u001b[1m> Finished chain.\u001b[0m\n"
     ]
    }
   ],
   "source": [
    "test_question = \"Provide me a summary of the user reviews ?\"\n",
    "ans = model_obj.generateAnswerwithMemory(question = test_question, prompt_template=prompt_template)"
   ]
  },
  {
   "cell_type": "code",
   "execution_count": 16,
   "metadata": {},
   "outputs": [],
   "source": [
    "embedding_model = HuggingFaceEmbeddings(model_name='sentence-transformers/all-MiniLM-L6-v2')\n",
    "test_idex = FAISS.load_local(pdf_vector_embedding_path,embedding_model)\n",
    "test_idex.as_retriever()\n",
    "llm = ChatOpenAI( openai_api_key = os.getenv(\"OPENAI_KEY\"))\n",
    "memory = ConversationSummaryMemory(llm=llm, memory_key='chat_history',\n",
    "                                    return_messages=True,output_key='answer')\n",
    "\n",
    "qa = ConversationalRetrievalChain.from_llm(llm, test_idex.as_retriever(), return_source_documents=True, \n",
    "                                           memory=memory, get_chat_history=lambda h :h,)"
   ]
  },
  {
   "cell_type": "code",
   "execution_count": 19,
   "metadata": {},
   "outputs": [],
   "source": [
    "def user(query, chat_history):\n",
    "    chat_history_tuples = []\n",
    "    for message in chat_history:\n",
    "        chat_history_tuples.append((message[0], message[1]))\n",
    "\n",
    "    # Get result from QA chain\n",
    "    result = qa({\"question\": query, \"chat_history\": chat_history_tuples})\n",
    "\n",
    "    # Append user message and response to chat history\n",
    "    chat_history.append((query, result[\"answer\"]))\n",
    "\n",
    "    return chat_history"
   ]
  },
  {
   "cell_type": "code",
   "execution_count": 20,
   "metadata": {},
   "outputs": [],
   "source": [
    "chat_history = []\n",
    "query = \"What is the price of Sony ZV E1 Camera?\"\n",
    "result = user(query,chat_history=chat_history)"
   ]
  },
  {
   "cell_type": "code",
   "execution_count": 22,
   "metadata": {},
   "outputs": [],
   "source": [
    "query = \"What is the price during offers at Amazon?\"\n",
    "result = user(query,chat_history=result)"
   ]
  },
  {
   "cell_type": "code",
   "execution_count": 23,
   "metadata": {},
   "outputs": [
    {
     "data": {
      "text/plain": [
       "[('What is the price of Sony ZV E1 Camera?',\n",
       "  'The Sony ZV-E1 camera is priced at MRP: Rs. 214,990, but it is available at an offer price of Rs. 1,88,990 on Amazon. [Sony ZV-E1 Full-Frame Interchangeable-Lens Mirrorless vlog Camera.pdf, page:1]'),\n",
       " ('What is the price during offers at Amazon?',\n",
       "  'The price of the Sony ZV-E1 camera during the Amazon offer is Rs. 1,88,990.')]"
      ]
     },
     "execution_count": 23,
     "metadata": {},
     "output_type": "execute_result"
    }
   ],
   "source": [
    "result"
   ]
  },
  {
   "cell_type": "code",
   "execution_count": 36,
   "metadata": {},
   "outputs": [],
   "source": [
    "prompt = ChatPromptTemplate.from_messages([\n",
    "    SystemMessage(content=\"You are a chatbot having a conversation with a human.\"), # The persistent system prompt\n",
    "    MessagesPlaceholder(variable_name=\"chat_history\"),         # Where the memory will be stored.\n",
    "    HumanMessagePromptTemplate.from_template(\"{human_input}\"), # Where the human input will injected\n",
    "])\n",
    "    \n",
    "memory = ConversationBufferWindowMemory(memory_key=\"chat_history\", return_messages=True, k=3)\n",
    "llm = ChatOpenAI( openai_api_key = os.getenv(\"OPENAI_KEY\"))\n",
    "llm_chain = LLMChain(\n",
    "    llm=llm,\n",
    "    prompt=prompt,\n",
    "    verbose=True,\n",
    "    memory=memory,\n",
    ")"
   ]
  },
  {
   "cell_type": "code",
   "execution_count": 41,
   "metadata": {},
   "outputs": [
    {
     "name": "stdout",
     "output_type": "stream",
     "text": [
      "\n",
      "\n",
      "\u001b[1m> Entering new LLMChain chain...\u001b[0m\n",
      "Prompt after formatting:\n",
      "\u001b[32;1m\u001b[1;3mSystem: You are a chatbot having a conversation with a human.\n",
      "Human: Hi, what was my name ?\n",
      "AI: Your name is KD.\n",
      "Human: Hi, what was my name ?\n",
      "AI: I apologize if I made a mistake in my previous responses. As an AI, I don't have access to personal information unless you provide it to me. Therefore, I don't know your name unless you tell me. If you mentioned your name earlier in our conversation, I may have missed it. Could you please remind me of your name?\n",
      "Human: Hi, I am KD. What is your name ?\u001b[0m\n",
      "\n",
      "\u001b[1m> Finished chain.\u001b[0m\n"
     ]
    }
   ],
   "source": [
    "res =  llm_chain.predict(human_input = 'Hi, I am KD. What is your name ?')"
   ]
  },
  {
   "cell_type": "code",
   "execution_count": 42,
   "metadata": {},
   "outputs": [
    {
     "data": {
      "text/plain": [
       "'Hello KD! Nice to meet you. As an AI language model developed by OpenAI, I don\\'t have a personal name. You can simply call me \"Assistant.\" How can I assist you today, KD?'"
      ]
     },
     "execution_count": 42,
     "metadata": {},
     "output_type": "execute_result"
    }
   ],
   "source": []
  },
  {
   "cell_type": "code",
   "execution_count": 38,
   "metadata": {},
   "outputs": [
    {
     "name": "stdout",
     "output_type": "stream",
     "text": [
      "\n",
      "\n",
      "\u001b[1m> Entering new LLMChain chain...\u001b[0m\n",
      "Prompt after formatting:\n",
      "\u001b[32;1m\u001b[1;3mSystem: You are a chatbot having a conversation with a human.\n",
      "Human: Hi, I am KD. What is your name ?\n",
      "AI: Hello KD! I'm an AI chatbot, so I don't have a physical form or a personal name. You can simply refer to me as \"Chatbot.\" How can I assist you today?\n",
      "Human: Hi, what was my name ?\u001b[0m\n",
      "\n",
      "\u001b[1m> Finished chain.\u001b[0m\n"
     ]
    },
    {
     "data": {
      "text/plain": [
       "'Your name is KD. You mentioned it in your initial message. Is there anything else you would like to discuss or inquire about?'"
      ]
     },
     "execution_count": 38,
     "metadata": {},
     "output_type": "execute_result"
    }
   ],
   "source": [
    "llm_chain.predict(human_input = 'Hi, what was my name ?')"
   ]
  },
  {
   "cell_type": "code",
   "execution_count": 39,
   "metadata": {},
   "outputs": [
    {
     "name": "stdout",
     "output_type": "stream",
     "text": [
      "\n",
      "\n",
      "\u001b[1m> Entering new LLMChain chain...\u001b[0m\n",
      "Prompt after formatting:\n",
      "\u001b[32;1m\u001b[1;3mSystem: You are a chatbot having a conversation with a human.\n",
      "Human: Hi, I am KD. What is your name ?\n",
      "AI: Hello KD! I'm an AI chatbot, so I don't have a physical form or a personal name. You can simply refer to me as \"Chatbot.\" How can I assist you today?\n",
      "Human: Hi, what was my name ?\n",
      "AI: Your name is KD. You mentioned it in your initial message. Is there anything else you would like to discuss or inquire about?\n",
      "Human: Hi, what was my name ?\u001b[0m\n",
      "\n",
      "\u001b[1m> Finished chain.\u001b[0m\n"
     ]
    },
    {
     "data": {
      "text/plain": [
       "'Your name is KD.'"
      ]
     },
     "execution_count": 39,
     "metadata": {},
     "output_type": "execute_result"
    }
   ],
   "source": [
    "llm_chain.predict(human_input = 'Hi, what was my name ?')"
   ]
  },
  {
   "cell_type": "code",
   "execution_count": 40,
   "metadata": {},
   "outputs": [
    {
     "name": "stdout",
     "output_type": "stream",
     "text": [
      "\n",
      "\n",
      "\u001b[1m> Entering new LLMChain chain...\u001b[0m\n",
      "Prompt after formatting:\n",
      "\u001b[32;1m\u001b[1;3mSystem: You are a chatbot having a conversation with a human.\n",
      "Human: Hi, what was my name ?\n",
      "AI: Your name is KD. You mentioned it in your initial message. Is there anything else you would like to discuss or inquire about?\n",
      "Human: Hi, what was my name ?\n",
      "AI: Your name is KD.\n",
      "Human: Hi, what was my name ?\u001b[0m\n",
      "\n",
      "\u001b[1m> Finished chain.\u001b[0m\n"
     ]
    },
    {
     "data": {
      "text/plain": [
       "\"I apologize if I made a mistake in my previous responses. As an AI, I don't have access to personal information unless you provide it to me. Therefore, I don't know your name unless you tell me. If you mentioned your name earlier in our conversation, I may have missed it. Could you please remind me of your name?\""
      ]
     },
     "execution_count": 40,
     "metadata": {},
     "output_type": "execute_result"
    }
   ],
   "source": [
    "llm_chain.predict(human_input = 'Hi, what was my name ?')"
   ]
  },
  {
   "cell_type": "code",
   "execution_count": 35,
   "metadata": {},
   "outputs": [
    {
     "name": "stdout",
     "output_type": "stream",
     "text": [
      "\n",
      "\n",
      "\u001b[1m> Entering new LLMChain chain...\u001b[0m\n",
      "Prompt after formatting:\n",
      "\u001b[32;1m\u001b[1;3mSystem: You are a chatbot having a conversation with a human.\n",
      "Human: Hi, what was my name ?\n",
      "AI: \n",
      "AI: Your name is KD.\n",
      "Human: Hi, what was my name ?\n",
      "AI: \n",
      "AI: Your name is KD. Is there something else I can help you with?\n",
      "Human: Hi, what was my name ?\u001b[0m\n",
      "\n",
      "\u001b[1m> Finished chain.\u001b[0m\n"
     ]
    },
    {
     "data": {
      "text/plain": [
       "'\\nAI:\\nYour name is KD. Is there something else I can help you with, or do you need me to repeat your name again?'"
      ]
     },
     "execution_count": 35,
     "metadata": {},
     "output_type": "execute_result"
    }
   ],
   "source": [
    "llm_chain.predict(human_input = 'Hi, what was my name ?')"
   ]
  },
  {
   "cell_type": "markdown",
   "metadata": {},
   "source": [
    "## Splitter"
   ]
  },
  {
   "cell_type": "code",
   "execution_count": 17,
   "metadata": {},
   "outputs": [],
   "source": [
    "def createQuestionPrompt(question, top_k_chunks):\n",
    "        prompt= \"\"\n",
    "        prompt += 'search results:\\n\\n'\n",
    "        for i in range(len(top_k_chunks)):\n",
    "            meta_info = '['+top_k_chunks[i].metadata['source'].split('\\\\')[-1] + \" , page : \" + str(top_k_chunks[i].metadata['page'])+'] '\n",
    "            page_content = top_k_chunks[i].page_content.replace('\\n', ' ')\n",
    "            page_content = re.sub('\\s+', ' ', page_content)\n",
    "            combined_content = meta_info + page_content\n",
    "            prompt += combined_content +'\\n\\n'\n",
    "        prompt += \"Instructions: Compose a comprehensive reply to the query using the search results given.\"\\\n",
    "                    \"Cite each reference using [pdfname.pdf , page : number] notation (every result has this number at the beginning).\"\\\n",
    "                    \"Citation should be done at the end of each sentence. If the search results mention multiple subjects\"\\\n",
    "                    \"with the same name, create separate answers for each. Only include information found in the results and\"\\\n",
    "                    \"don't add any additional information. Make sure the answer is correct and don't output false content.\"\\\n",
    "                    \"If the text does not relate to the query, simply state 'Found Nothing'. Don't write 'Answer:'\"\\\n",
    "                    \"Directly start the answer.\\n\"\n",
    "        prompt+= f\"Query : {question} \\n\\n\"\n",
    "        return prompt"
   ]
  },
  {
   "cell_type": "code",
   "execution_count": 18,
   "metadata": {},
   "outputs": [
    {
     "data": {
      "text/plain": [
       "'search results:\\n\\n[Sony ZV-E1 Full-Frame Interchangeable-Lens Mirrorless vlog Camera.pdf , page : 1] Technical Details: Brand Sony Manufacturer Sony, Sony Corporation, 1 -7-1 Konan, Minato -KU, Tokyo 108 -0075, Japan Model ZV-E1/BQ IN5 Model Name ZV-E1 Model Year 2023 Product Dimensions 5.43 x 12.1 x 7.19 cm; 483 Grams Batteries 1 Lithium Ion batteries required. (included) Item model number ZV-E1/BQ IN5 Memory Slots Available 1 Compatible Devices Laptop, Desktop, Tablet, Smartphone Special Features Face Detection Mounting Hardware Camera, Rechargeable Battery NP -FZ100, Shoulder strap, Wind Screen, Wind Screen Adapter, Body cap, Accessory shoe cap Number of items 1 Standing screen display size\\n\\n[Sony ZV-E1 Full-Frame Interchangeable-Lens Mirrorless vlog Camera.pdf , page : 0] Sony ZV -E1 Full -Frame Interchangeable -Lens Mirrorless vlog Camera Working with the ZV -E1\\'s 12.1 MP2 full -frame sensor, the latest BIONZ XR ™ engine provides high - speed processing to support 4K 60p, 120p upgradable recording, while an AI processing unit improves subject -recognition capabilities for advanced vlogging applications. About this item 12.1 MP full -frame back -illuminated CMOS Exmor R image sensor Advanced BIONZ XR image processing engine An AI processing unit for wider, more accurate subject recognition The world\\'s most compact, lightweight full -frame camera with interchangeable lenses Intelligent 3 -Capsule Microphone ZV-E1 can be used with all E -mount lenses, including the superlative G Master series with its stunning resolution and world -class bokeh. A choice of focal lengths ranging from 12 mm to 1200 mm5 gives users outstanding creative control.\\n\\n[Sony ZV-E1 Full-Frame Interchangeable-Lens Mirrorless vlog Camera.pdf , page : 5] The Sony ZV -E1 is great for travel photography, especially if you don\\'t mind shooting without a viewfinder. It\\'s very compact and portable for a full -frame camera, though it still isn\\'t the option to get if portability is your main priority since full -frame lenses can still add some bulk. On the upside, it has an amazing battery life and captures stunning images, with particularly good low -light performance. Its autofocus system is also remarkably reliable and accurate, with a sophisticated subject detection and tracking feature. That said, its ergonomics leave a little to be desired, particularly if you have larger hands. The Sony ZV -E1 is the first full -fram e camera from Sony dedicated specifically to vlogging and content creation. Like many of its ZV series predecessors, it has a fully articulated screen, no viewfinder, and an improved internal microphone, complete with a detachable \"dead cat\" windscreen. Bu t it stands\\n\\nInstructions: Compose a comprehensive reply to the query using the search results given.Cite each reference using [pdfname.pdf , page : number] notation (every result has this number at the beginning).Citation should be done at the end of each sentence. If the search results mention multiple subjectswith the same name, create separate answers for each. Only include information found in the results anddon\\'t add any additional information. Make sure the answer is correct and don\\'t output false content.If the text does not relate to the query, simply state \\'Found Nothing\\'. Don\\'t write \\'Answer:\\'Directly start the answer.\\nQuery : Find the cost of Sony ZV-E1 Full Frame camera \\n\\n'"
      ]
     },
     "execution_count": 18,
     "metadata": {},
     "output_type": "execute_result"
    }
   ],
   "source": [
    "question = \"Find the cost of Sony ZV-E1 Full Frame camera\"\n",
    "createQuestionPrompt(question, top_k_chunks)"
   ]
  },
  {
   "cell_type": "code",
   "execution_count": 5,
   "metadata": {},
   "outputs": [],
   "source": [
    "class Data:\n",
    "    def __init__(self, pdf_data_path, vector_db_path):\n",
    "        self.pdf_data_path = pdf_data_path\n",
    "        self.vector_db_path = vector_db_path\n",
    "        self.pinecone_api_key = os.getenv('PINECONE_KEY')\n",
    "        self.pinecone_env = os.getenv('PINECONE_ENV')\n",
    "        self.embedding_model = HuggingFaceEmbeddings(model_name='sentence-transformers/all-MiniLM-L6-v2')\n",
    "        self.openai_embedding_model = OpenAIEmbeddings(model='text-embedding-ada-002',\n",
    "                                                       openai_api_key=os.getenv('OPENAI_KEY'))\n",
    "\n",
    "    def createPDFVectorDBwithFAISS(self):\n",
    "        loader = DirectoryLoader(self.pdf_data_path, glob='*.pdf', loader_cls=PyPDFLoader,\n",
    "                                use_multithreading=True, show_progress=True)\n",
    "        docs = loader.load()\n",
    "        text_splitter  = RecursiveCharacterTextSplitter(chunk_size = 2000, chunk_overlap=400, \n",
    "                                                        separators=[\"\\n\\n\", \"\\n\", \" \", \"\"])\n",
    "        texts = text_splitter.split_documents(docs)\n",
    "        db = FAISS.from_documents(texts, self.embedding_model)\n",
    "        db.save_local(self.vector_db_path)\n",
    "\n",
    "    def create_top_k_chunk_from_FAISS(self, question, top_k):\n",
    "        test_idex = FAISS.load_local(self.vector_db_path,self.embedding_model)\n",
    "        top_k_chunks  = test_idex.similarity_search(question,k=top_k)\n",
    "        return top_k_chunks"
   ]
  },
  {
   "cell_type": "code",
   "execution_count": 7,
   "metadata": {},
   "outputs": [
    {
     "name": "stderr",
     "output_type": "stream",
     "text": [
      "100%|██████████| 9/9 [00:01<00:00,  7.65it/s]\n"
     ]
    }
   ],
   "source": [
    "pdf_data_path = \".\\\\media\"\n",
    "pdf_vector_embedding_path = \".\\\\VectorDB\"\n",
    "loader = DirectoryLoader(pdf_data_path, glob='*.pdf', loader_cls=PyPDFLoader,\n",
    "                                use_multithreading=True, show_progress=True)\n",
    "docs = loader.load()\n"
   ]
  },
  {
   "cell_type": "code",
   "execution_count": 14,
   "metadata": {},
   "outputs": [
    {
     "data": {
      "text/plain": [
       "'r warranty. Additional Warranty packs \\navailiable ( 3yr & 5yr packs)  \\nPrice:  \\nMRP: Rs. 26,581     Offer Price: Rs. 23,273 (Includes GST of Rs. 3550)  \\nTechnical Details:  \\nBrand  \\nHP \\nManufacturer  '"
      ]
     },
     "execution_count": 14,
     "metadata": {},
     "output_type": "execute_result"
    }
   ],
   "source": [
    "docs[0].page_content[-200:]"
   ]
  },
  {
   "cell_type": "code",
   "execution_count": 16,
   "metadata": {},
   "outputs": [
    {
     "data": {
      "text/plain": [
       "'HP , Futaihua Precision Industry (Weihai) Co. Ltd., Jinzhou Road 29#, Hi -Tech IDZ, Weihai, Shangdong  \\nSeries  \\nHP LASER MFP 1188FNW PRINTER  \\nColour  \\nWhite  \\nForm Factor  \\nAll-in-One \\nItem Height  '"
      ]
     },
     "execution_count": 16,
     "metadata": {},
     "output_type": "execute_result"
    }
   ],
   "source": [
    "docs[1].page_content[:200]"
   ]
  },
  {
   "cell_type": "code",
   "execution_count": 8,
   "metadata": {},
   "outputs": [
    {
     "data": {
      "text/plain": [
       "'HP Laser MFP 1188fnw Printer  About this item:  Printer type: Laser; Functions: Print, Copy, Scan, Fax; Printer output: Monochrome; Connectivity: USB/ WiFi -Direct, airprint supported - No; Scanner - Yes; Scanner resolution - Upto 600 dpi  KEY SPECS : Print, Copy, Scan, Fax Wireless, Direct Wifi USB 2.0 H igh Speed connectivity/Ethernet Space saving design 150 sheet input,100 sheet output Duty Cycle - 10000 Pages, 40 page ADF  OS Compatibility: Windows: 7 (32/64 bit), 2008 Server R2, 8 (32/64 bit), 8.1 (32/64 bit), 10 (32/64 bit), 2012 Server, 2016 Server, m acOS v10.14 Mojave, macOS v10.13 High Sierra, macOS v10.12 Sierra, OS X v10.11 El Capitan; Mobile connectivity - Yes; Hardware Interface - Ethernet, USB 2.0; Enlarge/reduce option - No; Duplex - Auto  Maximum Print Speed (Monochrome) - 21 pages/min; Print c ost Monochrome - INR 3.4; Maximum Print Resolution (Monochrome) - 720 dpi  \"Printer Page size: A4, B5, Letter, Legal; Maximum Input Sheet Capacity: 150 sheet input,100 sheet output Duty Cycle - 10000 Pages; Compatible ink: QUINK W1112A / 110A Premium Black;  Additional Printer Function Power wattage of printer - Active Printing: 300 watts, Ready: 38 watts, Sleep: 1.9 watts, Manual off: 0.2 watts PRINT MEDIA SUPPORTED : A4; A5; A5(LEF); B5 (JIS); Oficio; Envelope (DL, C5); 76 x 127 to 216 x 356mm\"  Ideal Usage:  Home, office; Included Components: Preinstalled introductory HP LaserJet Black print cartridges (~1.5K pages,CH/IN); Setup Guide; Reference Guide; Regulatory Statements Flyer; Power,cord; USB cable; Telecom cable (4in1 only)  \"COMPACT DESIGN : Surprisingly  small size, exceptional print quality; AFPORDABLE PRINTING: Rely on a high -performance laser printer at an affordable price RELIABLE CONNECTIVITY: 1 Wi -Fi 802.11b/g/n; 2 Hi -Speed USB 2.0 (device); Ethernet 10/100 Base -TX RELIABLE HP QUALITY : Produce shar p text, bold blacks and crisp graphics\"  SAVE YOUR PRODUCTIVE TIME : Business does not need to wait for your printer. Help maximize your uptime with print speeds up to 20 ppm; INCREASE EFFICIENCY with LED indicator lights (Power, Toner, Attention); SAVE ENE RGY with HP Auto On/Off Technology  BEST -IN-CLASS MOBILE APP : HP Smart App - Get the app that\\'s designed to control your printer. Get simple setup and print, scan, and copy from your phone with the HP Smart app. Connect via Wi -Fi or Ethernet and you\\'ll be all set for mobile printing success  PEACE OF MIND SERVICE SUPPORT: Standard HP Onsite 1 year warranty. Additional Warranty packs availiable ( 3yr & 5yr packs)  Price:  MRP: Rs. 26,581     Offer Price: Rs. 23,273 (Includes GST of Rs. 3550)  Technical Details:  Brand  HP Manufacturer  '"
      ]
     },
     "execution_count": 8,
     "metadata": {},
     "output_type": "execute_result"
    }
   ],
   "source": [
    "docs[0].page_content.replace('\\n','')"
   ]
  },
  {
   "cell_type": "code",
   "execution_count": 96,
   "metadata": {},
   "outputs": [
    {
     "data": {
      "text/plain": [
       "'AccurioPrint C4065 Copier  \\nThe AccurioPrint C4065 offers high productivity and media versatility as a compact and affordable \\nunit. Perfect for lower volume requirements, it offers professional image and colour quality, media \\nversatility and fast upto 66 ppm (A4, Colour), 81 ppm (A4,  black & white).  \\n \\nAbout this item:  \\nDurable Performance:  \\nUp to 66 A4 color pages per minute  \\nUp to 37 A3 color pages per minute  \\n2-sided banner printing, excellent image quality and so much more, the AccurioPrint C4065 from \\nKonica Minolta truly does it all i n a compact printing footprint. This revolutionary color production \\npress printer has all the features to your business needs to easily develop new revenue streams and \\nexpand into new markets.  \\n \\nReady -made print products:  \\nStacking of up to 4,200 sheets  \\nTwo-point and corner stapling of up to 100 sheets with automatic staple cut mechanism  \\nBooklet Making up to 80 pages (20 sheets)  \\n2- and 4 -hole punching  \\nTri-Fold up to 3 sheets  \\nSophisticated media handling:  \\nAir suction or air -assisted paper feeding technology  \\nUp to 5 paper trays  \\nLong sheet printing of up to 1300mm (simplex) and 864 (duplex)  \\n \\n \\nPrice:  \\nRs. 1400000/piece (approx.)  \\n \\nTechnical Specifications:  \\n \\nType  \\nConsole'"
      ]
     },
     "execution_count": 96,
     "metadata": {},
     "output_type": "execute_result"
    }
   ],
   "source": [
    "text_splitter  = RecursiveCharacterTextSplitter(chunk_size = 4000, chunk_overlap=200, \n",
    "                                                        separators=[\"\\n\\n\", \"\\n\", \" \", \"\"])\n",
    "texts = text_splitter.split_documents(docs)\n",
    "texts[0].page_content"
   ]
  },
  {
   "cell_type": "code",
   "execution_count": 13,
   "metadata": {},
   "outputs": [
    {
     "data": {
      "text/plain": [
       "2695"
      ]
     },
     "execution_count": 13,
     "metadata": {},
     "output_type": "execute_result"
    }
   ],
   "source": [
    "len(texts[0].page_content)"
   ]
  },
  {
   "cell_type": "code",
   "execution_count": 67,
   "metadata": {},
   "outputs": [
    {
     "data": {
      "text/plain": [
       "2421"
      ]
     },
     "execution_count": 67,
     "metadata": {},
     "output_type": "execute_result"
    }
   ],
   "source": [
    "len(docs[0].page_content)"
   ]
  },
  {
   "cell_type": "code",
   "execution_count": 80,
   "metadata": {},
   "outputs": [],
   "source": [
    "import fitz\n",
    "import re\n",
    "import numpy as np\n",
    "from tqdm.auto import tqdm\n",
    "\n",
    "\n",
    "## Input : KEY, pdf path , question\n",
    "## output : answer\n",
    "\n",
    "class Data:\n",
    "    def __init__(self, pdf_path):\n",
    "        self.pdf_path = pdf_path \n",
    "        self.start_page = 1\n",
    "        self.end_page = None\n",
    "\n",
    "    def _preprocess(self,text):\n",
    "        '''\n",
    "        preprocess chunks\n",
    "        1. Replace new line character with whitespace.\n",
    "        2. Replace redundant whitespace with a single whitespace\n",
    "        '''\n",
    "        text = text.replace('\\n', ' ')\n",
    "        text = re.sub('\\s+', ' ', text)\n",
    "        text = re.sub(r'\\\\u[e-f][0-9a-z]{3}',' ', text)\n",
    "        return text\n",
    "    \n",
    "    def _pdf_to_text(self):\n",
    "        '''\n",
    "            convert pdf to a list of words.\n",
    "        '''\n",
    "        doc = fitz.open(self.pdf_path)\n",
    "        total_pages= doc.page_count\n",
    "\n",
    "        if self.end_page is None:\n",
    "            self.end_page = total_pages\n",
    "        text_list=[]\n",
    "\n",
    "        for i in tqdm(range(self.start_page-1, self.end_page)):\n",
    "            text= doc.load_page(i).get_text('text')\n",
    "            text= self._preprocess(text)\n",
    "            text_list.append(f'[page:{i+1}] '+text)\n",
    "        doc.close()\n",
    "        return text_list\n",
    "    \n",
    "\n",
    "    def text_to_chunk(self):\n",
    "        ''''\n",
    "            converts the text into smaller chunks of word_length.\n",
    "        '''\n",
    "        word_length= self.word_length\n",
    "        texts = self._pdf_to_text()\n",
    "        tokens = [text.split(' ') for text in texts]\n",
    "        chunks=[]\n",
    "        for idx, words in enumerate(tokens):\n",
    "            for i in range(0,len(words), word_length):\n",
    "                chunk = words[i:i+word_length]\n",
    "                if (i+word_length) > len(words) and (len(chunk) < word_length) and (len(tokens) != (idx+1)):\n",
    "                    tokens[idx+1] = chunk + tokens[idx+1]\n",
    "                    continue\n",
    "                chunk = ' '.join(chunk).strip()\n",
    "                chunk=  f'[{idx+self.start_page}]'+' '+'\"'+chunk+'\"'\n",
    "                chunks.append(chunk)\n",
    "        return chunks"
   ]
  },
  {
   "cell_type": "code",
   "execution_count": 81,
   "metadata": {},
   "outputs": [
    {
     "name": "stderr",
     "output_type": "stream",
     "text": [
      "100%|██████████| 9/9 [00:01<00:00,  8.97it/s]\n"
     ]
    }
   ],
   "source": [
    "loader = DirectoryLoader('.\\\\media', glob='*.pdf', loader_cls=PyPDFLoader,\n",
    "                                use_multithreading=True, show_progress=True)\n",
    "docs = loader.load()"
   ]
  },
  {
   "cell_type": "code",
   "execution_count": 82,
   "metadata": {},
   "outputs": [
    {
     "name": "stderr",
     "output_type": "stream",
     "text": [
      "100%|██████████| 3/3 [00:00<00:00, 462.51it/s]\n"
     ]
    },
    {
     "data": {
      "text/plain": [
       "['[page:1] HP Laser 1008w Printer About this item: Printer type: Laser; Functions: Print; printer output: Monochrome; Connectivity (USB/ WiFi); Airprint supported (No); Scanner: No KEY SPECS : Print, Copy, Scan Wireless, Direct Wifi USB 2.0 High Speed connectivity/Ethernet Space saving design 150 sheet input,100 sheet output Duty Cycle - 10000 Pages OS Compatibility: Windows: 7 (32/64 bit), 2008 Server R2, 8 (32/64 bit), 8.1 (32/64 bit), 10 (32/64 bit), 2012 Server, 2016 Server,macOS v10.14 Mojave, macOS v10.13 High Sierra, macOS v10.12 Sierra, OS X v10.11 El Capitan[13](Windows 7 or higher)| Mobile connectivity: Yes; Hardware Interface: USB 2.0; Enlarge/reduce option: No; Duplex: Manual Maximum Print Speed (Monochrome): 21 Pages/min; Print cost Monochrome: 3.4; Maximum Print Resolution (Monochrome): 600 x 600 DPI Printer Page size: A4, Letter, Legal; Maximum Input Sheet Capacity: 150 sheets; Power wattage of printer: 320 watts (Active Printing), 33 watts (Ready), 1.1 watts (Sleep), 0.2 watts (Manual off), 0.2 watts (Auto off/Manual on) Ideal Usage: Home/Office; Included Components: Preinstalled introductory HP LaserJet Black print cartridges (~1.5K pages, CH/IN); Setup Guide; Reference Guide; Regulatory Statements Flyer; Power cord; USB cable; wifi band supported:Yes, built-in Wi-Fi 802.11b/g/n \"COMPACT DESIGN : Surprisingly small size, exceptional print quality; AFPORDABLE PRINTING: Rely on a high-performance laser printer at an affordable price RELIABLE CONNECTIVITY: Wi-Fi 802.11b/g/n; 1 Hi-Speed USB 2.0 (port); RELIABLE HP QUALITY : Produce sharp text, bold blacks and crisp graphics\" SAVE YOUR PRODUCTIVE TIME : Business does not need to wait for your printer. Help maximize your uptime with print speeds up to 20 ppm; INCREASE EFFICIENCY with LED indicator lights (Power, Toner, Attention); SAVE ENERGY with HP Auto On/Off Technology BEST-IN-CLASS MOBILE APP : HP Smart App - Get the app that\\'s designed to control your printer. Get simple setup and print, scan, and copy from your phone with the HP Smart app. Connect via Wi-Fi or Ethernet and you\\'ll be all set for mobile printing success PEACE OF MIND SERVICE SUPPORT: Standard HP Onsite 1 year warranty. Additional Warranty packs availiable ( 3yr & 5yr packs) Price: MRP: Rs. 15,840 Offer Price: Rs. 14,011 (Includes GST of Rs. 2137) Technical Details: Brand HP Manufacturer ',\n",
       " '[page:2] HP, Futaihua Precision Industry (Weihai) Co. Ltd., Jinzhou Road 29#, Hi-Tech IDZ, Weihai, Shangdong Series HP LASER 1008W PRINTER Colour White Form Factor Printer Item Height 21.5 Centimeters Item Width 17.8 Centimeters Product Dimensions 33.1 x 17.8 x 21.5 cm; 4.23 Kilograms Item model number 714Z9A Operating System Windows Included Components Preinstalled introductory HP Laser Black print cartridges (~1.5K pages); Setup Guide; Reference Guide; Regulatory Statements Flyer; Power cord; USB cable Manufacturer HP Country of Origin China Item Weight 4 kg 230 g Additional Details: Date First Available 13 April 2023 ',\n",
       " '[page:3] Packer Futaihua Precision Industry (Weihai) Co. Ltd., Jinzhou Road 29#, Hi-Tech IDZ, Weihai, Shangdong Importer HP India Sales Private Ltd. 24, Salarpuria Arena, Hosur Main Road Adugodi, Bangalore- 560030 Item Dimensions LxWxH 33.1 x 17.8 x 21.5 Centimeters Net Quantity 1 Count Generic Name Laser Printer Product Reviews: Overall Rating: 3.4 Some of the customer reviews are: Worst printer, it often goes offline, has connectivity issues frequently. It is a nightmare going for Wi-Fi printer. Wi-Fi is also not stable, requires frequent re-installation of Drivers. It is not a plug & use item like TV or even laptop. Multipurpose printer for home and office. You need to rotate and then again install the sheet to get front and back print. Overall, it is good. Pros: Print speed up to 20 ppm (black) LED display Up to 100 sheets output Print & scan from your smartphone Cons: Manual duplex scanning feature is present. Wireless configuration is difficult resulting in lockout due to IP address protection ']"
      ]
     },
     "execution_count": 82,
     "metadata": {},
     "output_type": "execute_result"
    }
   ],
   "source": [
    "pdf_path = \".\\\\media\\\\HP Laser 1008w Printer.pdf\"\n",
    "d_obj = Data(pdf_path)\n",
    "text_list = d_obj._pdf_to_text()\n",
    "text_list"
   ]
  },
  {
   "cell_type": "code",
   "execution_count": 85,
   "metadata": {},
   "outputs": [
    {
     "name": "stdout",
     "output_type": "stream",
     "text": [
      "2419\n",
      "679\n",
      "1063\n"
     ]
    }
   ],
   "source": [
    "text_splitter = RecursiveCharacterTextSplitter(\n",
    "    # Set a really small chunk size, just to show.\n",
    "    chunk_size = 4000,\n",
    "    chunk_overlap  = 200,\n",
    ")\n",
    "\n",
    "texts = text_splitter.split_documents(docs)\n",
    "print(len(texts[0].page_content))\n",
    "print(len(texts[1].page_content))\n",
    "print(len(texts[2].page_content))"
   ]
  },
  {
   "cell_type": "code",
   "execution_count": 74,
   "metadata": {},
   "outputs": [
    {
     "name": "stdout",
     "output_type": "stream",
     "text": [
      "2349\n",
      "618\n",
      "1005\n"
     ]
    }
   ],
   "source": [
    "text_splitter = RecursiveCharacterTextSplitter(\n",
    "    # Set a really small chunk size, just to show.\n",
    "    chunk_size = 4000,\n",
    "    chunk_overlap  = 200,)\n",
    "\n",
    "t = text_splitter.create_documents(text_list)\n",
    "\n",
    "print(len(t[0].page_content))\n",
    "print(len(t[1].page_content))\n",
    "print(len(t[2].page_content))"
   ]
  },
  {
   "cell_type": "code",
   "execution_count": 89,
   "metadata": {},
   "outputs": [
    {
     "data": {
      "text/plain": [
       "'HP Laser 1008w Printer About this item: Printer type: Laser; Functions: Print; printer output: Monochrome; Connectivity (USB/ WiFi); Airprint supported (No); Scanner: No KEY SPECS : Print, Copy, Scan Wireless, Direct Wifi USB 2.0 High Speed connectivity/Ethernet Space saving design 150 sheet input,100 sheet output Duty Cycle - 10000 Pages OS Compatibility: Windows: 7 (32/64 bit), 2008 Server R2, 8 (32/64 bit), 8.1 (32/64 bit), 10 (32/64 bit), 2012 Server, 2016 Server,macOS v10.14 Mojave, macOS v10.13 High Sierra, macOS v10.12 Sierra, OS X v10.11 El Capitan[13](Windows 7 or higher)| Mobile connectivity: Yes; Hardware Interface: USB 2.0; Enlarge/reduce option: No; Duplex: Manual Maximum Print Speed (Monochrome): 21 Pages/min; Print cost Monochrome: 3.4; Maximum Print Resolution (Monochrome): 600 x 600 DPI Printer Page size: A4, Letter, Legal; Maximum Input Sheet Capacity: 150 sheets; Power wattage of printer: 320 watts (Active Printing), 33 watts (Ready), 1.1 watts (Sleep), 0.2 watts (Manual off), 0.2 watts (Auto off/Manual on) Ideal Usage: Home/Office; Included Components: Preinstalled introductory HP LaserJet Black print cartridges (~1.5K pages, CH/IN); Setup Guide; Reference Guide; Regulatory Statements Flyer; Power cord; USB cable; wifi band supported:Yes, built-in Wi-Fi 802.11b/g/n \"COMPACT DESIGN : Surprisingly small size, exceptional print quality; AFPORDABLE PRINTING: Rely on a high-performance laser printer at an affordable price RELIABLE CONNECTIVITY: Wi-Fi 802.11b/g/n; 1 Hi-Speed USB 2.0 (port); RELIABLE HP QUALITY : Produce sharp text, bold blacks and crisp graphics\" SAVE YOUR PRODUCTIVE TIME : Business does not need to wait for your printer. Help maximize your uptime with print speeds up to 20 ppm; INCREASE EFFICIENCY with LED indicator lights (Power, Toner, Attention); SAVE ENERGY with HP Auto On/Off Technology BEST-IN-CLASS MOBILE APP : HP Smart App - Get the app that\\'s designed to control your printer. Get simple setup and print, scan, and copy from your phone with the HP Smart app. Connect via Wi-Fi or Ethernet and you\\'ll be all set for mobile printing success PEACE OF MIND SERVICE SUPPORT: Standard HP Onsite 1 year warranty. Additional Warranty packs availiable ( 3yr & 5yr packs) Price: MRP: Rs. 15,840 Offer Price: Rs. 14,011 (Includes GST of Rs. 2137) Technical Details: Brand HP Manufacturer'"
      ]
     },
     "execution_count": 89,
     "metadata": {},
     "output_type": "execute_result"
    }
   ],
   "source": [
    "t[0].page_content"
   ]
  },
  {
   "cell_type": "markdown",
   "metadata": {},
   "source": [
    "https://github.com/langchain-ai/langchain/blob/659817834369799ff7dfba62d79ae6b9e7e8ec7e/libs/langchain/langchain/text_splitter.py#L149"
   ]
  },
  {
   "cell_type": "markdown",
   "metadata": {},
   "source": [
    "https://python.langchain.com/docs/modules/data_connection/document_transformers/"
   ]
  },
  {
   "cell_type": "code",
   "execution_count": 12,
   "metadata": {},
   "outputs": [
    {
     "data": {
      "text/plain": [
       "['HP Laser 1008w Printer About this item: Printer type: Laser; Functions: Print; printer output: Monochrome; Connectivity (USB/ WiFi); Airprint supported (No); Scanner: No KEY SPECS : Print, Copy, Scan Wireless, Direct Wifi USB 2.0 High Speed connectivity/Ethernet Space saving design 150 sheet input,100 sheet output Duty Cycle - 10000 Pages OS Compatibility: Windows: 7 (32/64 bit), 2008 Server R2, 8 (32/64 bit), 8.1 (32/64 bit), 10 (32/64 bit), 2012 Server, 2016 Server,macOS v10.14 Mojave, macOS v10.13 High Sierra, macOS v10.12 Sierra, OS X v10.11 El Capitan[13](Windows 7 or higher)| Mobile connectivity: Yes; Hardware Interface: USB 2.0; Enlarge/reduce option: No; Duplex: Manual Maximum Print Speed (Monochrome): 21 Pages/min; Print cost Monochrome: 3.4; Maximum Print Resolution (Monochrome): 600 x 600 DPI Printer Page size: A4, Letter, Legal; Maximum Input Sheet Capacity: 150 sheets; Power wattage of printer: 320 watts (Active Printing), 33 watts (Ready), 1.1 watts (Sleep), 0.2 watts (Manual off), 0.2 watts (Auto off/Manual on) Ideal Usage: Home/Office; Included Components: Preinstalled introductory HP LaserJet Black print cartridges (~1.5K pages, CH/IN); Setup Guide; Reference Guide; Regulatory Statements Flyer; Power cord; USB cable; wifi band supported:Yes, built-in Wi-Fi 802.11b/g/n \"COMPACT DESIGN : Surprisingly small size, exceptional print quality; AFPORDABLE PRINTING: Rely on a high-performance laser printer at an affordable price RELIABLE CONNECTIVITY: Wi-Fi 802.11b/g/n; 1 Hi-Speed USB 2.0 (port); RELIABLE HP QUALITY : Produce sharp text, bold blacks and crisp graphics\" SAVE YOUR PRODUCTIVE TIME : Business does not need to wait for your printer. Help maximize your uptime with print speeds up to 20 ppm; INCREASE EFFICIENCY with LED indicator lights (Power, Toner, Attention); SAVE ENERGY with HP Auto On/Off Technology BEST-IN-CLASS MOBILE APP : HP Smart App - Get the app that\\'s designed to control your printer. Get simple setup and print, scan, and copy from your phone with the HP Smart app. Connect via Wi-Fi or Ethernet and you\\'ll be all set for mobile printing success PEACE OF MIND SERVICE SUPPORT: Standard HP Onsite 1 year warranty. Additional Warranty packs availiable ( 3yr & 5yr packs) Price: MRP: Rs. 15,840 Offer Price: Rs. 14,011 (Includes GST of Rs. 2137) Technical Details: Brand HP Manufacturer ',\n",
       " 'HP, Futaihua Precision Industry (Weihai) Co. Ltd., Jinzhou Road 29#, Hi-Tech IDZ, Weihai, Shangdong Series HP LASER 1008W PRINTER Colour White Form Factor Printer Item Height 21.5 Centimeters Item Width 17.8 Centimeters Product Dimensions 33.1 x 17.8 x 21.5 cm; 4.23 Kilograms Item model number 714Z9A Operating System Windows Included Components Preinstalled introductory HP Laser Black print cartridges (~1.5K pages); Setup Guide; Reference Guide; Regulatory Statements Flyer; Power cord; USB cable Manufacturer HP Country of Origin China Item Weight 4 kg 230 g Additional Details: Date First Available 13 April 2023 ',\n",
       " 'Packer Futaihua Precision Industry (Weihai) Co. Ltd., Jinzhou Road 29#, Hi-Tech IDZ, Weihai, Shangdong Importer HP India Sales Private Ltd. 24, Salarpuria Arena, Hosur Main Road Adugodi, Bangalore- 560030 Item Dimensions LxWxH 33.1 x 17.8 x 21.5 Centimeters Net Quantity 1 Count Generic Name Laser Printer Product Reviews: Overall Rating: 3.4 Some of the customer reviews are: Worst printer, it often goes offline, has connectivity issues frequently. It is a nightmare going for Wi-Fi printer. Wi-Fi is also not stable, requires frequent re-installation of Drivers. It is not a plug & use item like TV or even laptop. Multipurpose printer for home and office. You need to rotate and then again install the sheet to get front and back print. Overall, it is good. Pros: Print speed up to 20 ppm (black) LED display Up to 100 sheets output Print & scan from your smartphone Cons: Manual duplex scanning feature is present. Wireless configuration is difficult resulting in lockout due to IP address protection ']"
      ]
     },
     "execution_count": 12,
     "metadata": {},
     "output_type": "execute_result"
    }
   ],
   "source": [
    "text_list"
   ]
  },
  {
   "cell_type": "code",
   "execution_count": 93,
   "metadata": {},
   "outputs": [],
   "source": [
    "import copy\n",
    "from langchain.docstore.document import Document\n",
    "\n",
    "class CustomTextSplitter:\n",
    "\n",
    "    def __init__(self, chunk_size, chunk_overlap):\n",
    "        self.keep_separator= False\n",
    "        self.strip_whitespace=True\n",
    "        self.is_separator_regex=False\n",
    "        self.add_start_index=False\n",
    "        self.length_function = len\n",
    "        self.chunk_size=chunk_size\n",
    "        self.chunk_overlap = chunk_overlap\n",
    "        self.separators=[\"\\n\\n\", \"\\n\", \" \", \"\"]\n",
    "\n",
    "    def _split_text_with_regex(self,text: str, separator: str):\n",
    "        # Now that we have the separator, split the text\n",
    "        if separator:\n",
    "            if self.keep_separator:\n",
    "                # The parentheses in the pattern keep the delimiters in the result.\n",
    "                _splits = re.split(f\"({separator})\", text)\n",
    "                splits = [_splits[i] + _splits[i + 1] for i in range(1, len(_splits), 2)]\n",
    "                if len(_splits) % 2 == 0:\n",
    "                    splits += _splits[-1:]\n",
    "                splits = [_splits[0]] + splits\n",
    "            else:\n",
    "                splits = re.split(separator, text)\n",
    "        else:\n",
    "            splits = list(text)\n",
    "        return [s for s in splits if s != \"\"]\n",
    "    \n",
    "    def _join_docs(self, docs, separator:str,):\n",
    "        text = separator.join(docs)\n",
    "        if self.strip_whitespace:\n",
    "            text = text.strip()\n",
    "        if text == \"\":\n",
    "            return None\n",
    "        else:\n",
    "            return text\n",
    "        \n",
    "\n",
    "    def _merge_splits(self, splits, separator: str):\n",
    "        # We now want to combine these smaller pieces into medium size\n",
    "        # chunks to send to the LLM.\n",
    "        separator_len = self.length_function(separator)\n",
    "\n",
    "        docs = []\n",
    "        current_doc= []\n",
    "        total = 0\n",
    "        for d in splits:\n",
    "            _len = self.length_function(d)\n",
    "            if (\n",
    "                total + _len + (separator_len if len(current_doc) > 0 else 0)\n",
    "                > self.chunk_size\n",
    "            ):\n",
    "                if total > self.chunk_size:\n",
    "                    print(\n",
    "                        f\"Created a chunk of size {total}, \"\n",
    "                        f\"which is longer than the specified {self.chunk_size}\"\n",
    "                    )\n",
    "                if len(current_doc) > 0:\n",
    "                    doc = self._join_docs(current_doc, separator)\n",
    "                    if doc is not None:\n",
    "                        docs.append(doc)\n",
    "                    # Keep on popping if:\n",
    "                    # - we have a larger chunk than in the chunk overlap\n",
    "                    # - or if we still have any chunks and the length is long\n",
    "                    while total > self.chunk_overlap or (\n",
    "                        total + _len + (separator_len if len(current_doc) > 0 else 0)\n",
    "                        > self.chunk_size\n",
    "                        and total > 0\n",
    "                    ):\n",
    "                        total -= self.length_function(current_doc[0]) + (\n",
    "                            separator_len if len(current_doc) > 1 else 0\n",
    "                        )\n",
    "                        current_doc = current_doc[1:]\n",
    "            current_doc.append(d)\n",
    "            total += _len + (separator_len if len(current_doc) > 1 else 0)\n",
    "        doc = self._join_docs(current_doc, separator)\n",
    "        if doc is not None:\n",
    "            docs.append(doc)\n",
    "        return docs\n",
    "    \n",
    "    def _split_text(self,text: str,):\n",
    "        \"\"\"Split incoming text and return chunks.\"\"\"\n",
    "        final_chunks = []\n",
    "        # Get appropriate separator to use\n",
    "        separator = self.separators[-1]\n",
    "        new_separators = []\n",
    "        for i, _s in enumerate(self.separators):\n",
    "            _separator = _s if self.is_separator_regex else re.escape(_s)\n",
    "            if _s == \"\":\n",
    "                separator = _s\n",
    "                break\n",
    "            if re.search(_separator, text):\n",
    "                separator = _s\n",
    "                new_separators = self.separators[i + 1 :]\n",
    "                break\n",
    "\n",
    "        _separator = separator if self.is_separator_regex else re.escape(separator)\n",
    "        splits = self._split_text_with_regex(text, _separator)\n",
    "\n",
    "        # Now go merging things, recursively splitting longer texts.\n",
    "        _good_splits = []\n",
    "        _separator = \"\" if self.keep_separator else separator\n",
    "        for s in splits:\n",
    "            if self.length_function(s) < self.chunk_size:\n",
    "                _good_splits.append(s)\n",
    "            else:\n",
    "                if _good_splits:\n",
    "                    merged_text = self._merge_splits(_good_splits, _separator)\n",
    "                    final_chunks.extend(merged_text)\n",
    "                    _good_splits = []\n",
    "                if not new_separators:\n",
    "                    final_chunks.append(s)\n",
    "                else:\n",
    "                    other_info = self._split_text(s, new_separators)\n",
    "                    final_chunks.extend(other_info)\n",
    "        if _good_splits:\n",
    "            merged_text = self._merge_splits(_good_splits, _separator)\n",
    "            final_chunks.extend(merged_text)\n",
    "        return final_chunks\n",
    "    \n",
    "\n",
    "    def create_documents(self, texts, metadatas= None):\n",
    "        \"\"\"Create documents from a list of texts.\"\"\"\n",
    "        # _metadatas = metadatas or [{}] * len(texts)\n",
    "        # Lst=[]\n",
    "        documents = []\n",
    "        for i, text in enumerate(texts):\n",
    "            index = -1\n",
    "            for chunk in self._split_text(text):\n",
    "                info_dict = {}\n",
    "                #metadata = copy.deepcopy(_metadatas[i])\n",
    "                if self.add_start_index:\n",
    "                    index = text.find(chunk, index + 1)\n",
    "                    #metadata[\"start_index\"] = index\n",
    "                #info_dict['metadata'] = metadata\n",
    "                #info_dict['page_content'] = chunk\n",
    "                #Lst.append(info_dict)\n",
    "                new_doc = Document(page_content=chunk, metadata={})\n",
    "                documents.append(new_doc)\n",
    "                #new_doc = (page_content=chunk, metadata=metadata)\n",
    "                #documents.append(new_doc)\n",
    "        return documents\n",
    "    \n",
    "    "
   ]
  },
  {
   "cell_type": "code",
   "execution_count": 95,
   "metadata": {},
   "outputs": [
    {
     "data": {
      "text/plain": [
       "[Document(page_content='[page:1] HP Laser 1008w Printer About this item: Printer type: Laser; Functions: Print; printer output: Monochrome; Connectivity (USB/ WiFi); Airprint supported (No); Scanner: No KEY SPECS : Print, Copy, Scan Wireless, Direct Wifi USB 2.0 High Speed connectivity/Ethernet Space saving design 150 sheet input,100 sheet output Duty Cycle - 10000 Pages OS Compatibility: Windows: 7 (32/64 bit), 2008 Server R2, 8 (32/64 bit), 8.1 (32/64 bit), 10 (32/64 bit), 2012 Server, 2016 Server,macOS v10.14 Mojave, macOS v10.13 High Sierra, macOS v10.12 Sierra, OS X v10.11 El Capitan[13](Windows 7 or higher)| Mobile connectivity: Yes; Hardware Interface: USB 2.0; Enlarge/reduce option: No; Duplex: Manual Maximum Print Speed (Monochrome): 21 Pages/min; Print cost Monochrome: 3.4; Maximum Print Resolution (Monochrome): 600 x 600 DPI Printer Page size: A4, Letter, Legal; Maximum Input Sheet Capacity: 150 sheets; Power wattage of printer: 320 watts (Active Printing), 33 watts (Ready), 1.1 watts (Sleep), 0.2 watts (Manual off), 0.2 watts (Auto off/Manual on) Ideal Usage: Home/Office; Included Components: Preinstalled introductory HP LaserJet Black print cartridges (~1.5K pages, CH/IN); Setup Guide; Reference Guide; Regulatory Statements Flyer; Power cord; USB cable; wifi band supported:Yes, built-in Wi-Fi 802.11b/g/n \"COMPACT DESIGN : Surprisingly small size, exceptional print quality; AFPORDABLE PRINTING: Rely on a high-performance laser printer at an affordable price RELIABLE CONNECTIVITY: Wi-Fi 802.11b/g/n; 1 Hi-Speed USB 2.0 (port); RELIABLE HP QUALITY : Produce sharp text, bold blacks and crisp graphics\" SAVE YOUR PRODUCTIVE TIME : Business does not need to wait for your printer. Help maximize your uptime with print speeds up to 20 ppm; INCREASE EFFICIENCY with LED indicator lights (Power, Toner, Attention); SAVE ENERGY with HP Auto On/Off Technology BEST-IN-CLASS MOBILE APP : HP Smart App - Get the app that\\'s designed to control your printer. Get simple setup and print, scan, and copy from your phone with the HP Smart app. Connect via Wi-Fi or Ethernet and you\\'ll be all set for mobile printing success PEACE OF MIND SERVICE SUPPORT: Standard HP Onsite 1 year warranty. Additional Warranty packs availiable ( 3yr & 5yr packs) Price: MRP: Rs. 15,840 Offer Price: Rs. 14,011 (Includes GST of Rs. 2137) Technical Details: Brand HP Manufacturer .[page:2] HP, Futaihua Precision Industry (Weihai) Co. Ltd., Jinzhou Road 29#, Hi-Tech IDZ, Weihai, Shangdong Series HP LASER 1008W PRINTER Colour White Form Factor Printer Item Height 21.5 Centimeters Item Width 17.8 Centimeters Product Dimensions 33.1 x 17.8 x 21.5 cm; 4.23 Kilograms Item model number 714Z9A Operating System Windows Included Components Preinstalled introductory HP Laser Black print cartridges (~1.5K pages); Setup Guide; Reference Guide; Regulatory Statements Flyer; Power cord; USB cable Manufacturer HP Country of Origin China Item Weight 4 kg 230 g Additional Details: Date First Available 13 April 2023 .[page:3]', metadata={}),\n",
       " Document(page_content='Reference Guide; Regulatory Statements Flyer; Power cord; USB cable Manufacturer HP Country of Origin China Item Weight 4 kg 230 g Additional Details: Date First Available 13 April 2023 .[page:3] Packer Futaihua Precision Industry (Weihai) Co. Ltd., Jinzhou Road 29#, Hi-Tech IDZ, Weihai, Shangdong Importer HP India Sales Private Ltd. 24, Salarpuria Arena, Hosur Main Road Adugodi, Bangalore- 560030 Item Dimensions LxWxH 33.1 x 17.8 x 21.5 Centimeters Net Quantity 1 Count Generic Name Laser Printer Product Reviews: Overall Rating: 3.4 Some of the customer reviews are: Worst printer, it often goes offline, has connectivity issues frequently. It is a nightmare going for Wi-Fi printer. Wi-Fi is also not stable, requires frequent re-installation of Drivers. It is not a plug & use item like TV or even laptop. Multipurpose printer for home and office. You need to rotate and then again install the sheet to get front and back print. Overall, it is good. Pros: Print speed up to 20 ppm (black) LED display Up to 100 sheets output Print & scan from your smartphone Cons: Manual duplex scanning feature is present. Wireless configuration is difficult resulting in lockout due to IP address protection', metadata={})]"
      ]
     },
     "execution_count": 95,
     "metadata": {},
     "output_type": "execute_result"
    }
   ],
   "source": [
    "splitter = CustomTextSplitter(chunk_size=3000, chunk_overlap=200)\n",
    "splitter.create_documents([\".\".join(text_list)])"
   ]
  },
  {
   "cell_type": "code",
   "execution_count": 85,
   "metadata": {},
   "outputs": [],
   "source": []
  },
  {
   "cell_type": "code",
   "execution_count": 87,
   "metadata": {},
   "outputs": [],
   "source": [
    "tl=[\".\".join(text_list)]"
   ]
  },
  {
   "cell_type": "code",
   "execution_count": 88,
   "metadata": {},
   "outputs": [
    {
     "data": {
      "text/plain": [
       "[Document(page_content='[page:1] HP Laser 1008w Printer About this item: Printer type: Laser; Functions: Print; printer output: Monochrome; Connectivity (USB/ WiFi); Airprint supported (No); Scanner: No KEY SPECS : Print, Copy, Scan Wireless, Direct Wifi USB 2.0 High Speed connectivity/Ethernet Space saving design 150 sheet input,100 sheet output Duty Cycle - 10000 Pages OS Compatibility: Windows: 7 (32/64 bit), 2008 Server R2, 8 (32/64 bit), 8.1 (32/64 bit), 10 (32/64 bit), 2012 Server, 2016 Server,macOS v10.14 Mojave, macOS v10.13 High Sierra, macOS v10.12 Sierra, OS X v10.11 El Capitan[13](Windows 7 or higher)| Mobile connectivity: Yes; Hardware Interface: USB 2.0; Enlarge/reduce option: No; Duplex: Manual Maximum Print Speed (Monochrome): 21 Pages/min; Print cost Monochrome: 3.4; Maximum Print Resolution (Monochrome): 600 x 600 DPI Printer Page size: A4, Letter, Legal; Maximum Input Sheet Capacity: 150 sheets; Power wattage of printer: 320 watts (Active Printing), 33 watts (Ready), 1.1 watts (Sleep), 0.2 watts (Manual off), 0.2 watts (Auto off/Manual on) Ideal Usage: Home/Office; Included Components: Preinstalled introductory HP LaserJet Black print cartridges (~1.5K pages, CH/IN); Setup Guide; Reference Guide; Regulatory Statements Flyer; Power cord; USB cable; wifi band supported:Yes, built-in Wi-Fi 802.11b/g/n \"COMPACT DESIGN : Surprisingly small size, exceptional print quality; AFPORDABLE PRINTING: Rely on a high-performance laser printer at an affordable price RELIABLE CONNECTIVITY: Wi-Fi 802.11b/g/n; 1 Hi-Speed USB 2.0 (port); RELIABLE HP QUALITY : Produce sharp text, bold blacks and crisp graphics\" SAVE YOUR PRODUCTIVE TIME : Business does not need to wait for your printer. Help maximize your uptime with print speeds up to 20 ppm; INCREASE EFFICIENCY with LED indicator lights (Power, Toner, Attention); SAVE ENERGY with HP Auto On/Off Technology BEST-IN-CLASS MOBILE APP : HP Smart App - Get the app that\\'s designed to control your printer. Get simple setup and print, scan, and copy from your phone with the HP Smart app. Connect via Wi-Fi or Ethernet and you\\'ll be all set for mobile printing success PEACE OF MIND SERVICE SUPPORT: Standard HP Onsite 1 year warranty. Additional Warranty packs availiable ( 3yr & 5yr packs) Price: MRP: Rs. 15,840 Offer Price: Rs. 14,011 (Includes GST of Rs. 2137) Technical Details: Brand HP Manufacturer .[page:2] HP, Futaihua Precision Industry (Weihai) Co. Ltd., Jinzhou Road 29#, Hi-Tech IDZ, Weihai, Shangdong Series HP LASER 1008W PRINTER Colour White Form Factor Printer Item Height 21.5 Centimeters Item Width 17.8 Centimeters Product Dimensions 33.1 x 17.8 x 21.5 cm; 4.23 Kilograms Item model number 714Z9A Operating System Windows Included Components Preinstalled introductory HP Laser Black print cartridges (~1.5K pages); Setup Guide; Reference Guide; Regulatory Statements Flyer; Power cord; USB cable Manufacturer HP Country of Origin China Item Weight 4 kg 230 g Additional Details: Date First Available 13 April 2023 .[page:3]', metadata={}),\n",
       " Document(page_content='Reference Guide; Regulatory Statements Flyer; Power cord; USB cable Manufacturer HP Country of Origin China Item Weight 4 kg 230 g Additional Details: Date First Available 13 April 2023 .[page:3] Packer Futaihua Precision Industry (Weihai) Co. Ltd., Jinzhou Road 29#, Hi-Tech IDZ, Weihai, Shangdong Importer HP India Sales Private Ltd. 24, Salarpuria Arena, Hosur Main Road Adugodi, Bangalore- 560030 Item Dimensions LxWxH 33.1 x 17.8 x 21.5 Centimeters Net Quantity 1 Count Generic Name Laser Printer Product Reviews: Overall Rating: 3.4 Some of the customer reviews are: Worst printer, it often goes offline, has connectivity issues frequently. It is a nightmare going for Wi-Fi printer. Wi-Fi is also not stable, requires frequent re-installation of Drivers. It is not a plug & use item like TV or even laptop. Multipurpose printer for home and office. You need to rotate and then again install the sheet to get front and back print. Overall, it is good. Pros: Print speed up to 20 ppm (black) LED display Up to 100 sheets output Print & scan from your smartphone Cons: Manual duplex scanning feature is present. Wireless configuration is difficult resulting in lockout due to IP address protection', metadata={})]"
      ]
     },
     "execution_count": 88,
     "metadata": {},
     "output_type": "execute_result"
    }
   ],
   "source": [
    "create_documents(tl)#[0]['page_content']"
   ]
  },
  {
   "cell_type": "code",
   "execution_count": 46,
   "metadata": {},
   "outputs": [
    {
     "data": {
      "text/plain": [
       "['HP Laser 1008w Printer About this item: Printer type: Laser; Functions: Print; printer output: Monochrome; Connectivity (USB/ WiFi); Airprint supported (No); Scanner: No KEY SPECS : Print, Copy, Scan Wireless, Direct Wifi USB 2.0 High Speed connectivity/Ethernet Space saving design 150 sheet input,100 sheet output Duty Cycle - 10000 Pages OS Compatibility: Windows: 7 (32/64 bit), 2008 Server R2, 8 (32/64 bit), 8.1 (32/64 bit), 10 (32/64 bit), 2012 Server, 2016 Server,macOS v10.14 Mojave, macOS v10.13 High Sierra, macOS v10.12 Sierra, OS X v10.11 El Capitan[13](Windows 7 or higher)| Mobile connectivity: Yes; Hardware Interface: USB 2.0; Enlarge/reduce option: No; Duplex: Manual Maximum Print Speed (Monochrome): 21 Pages/min; Print cost Monochrome: 3.4; Maximum Print Resolution (Monochrome): 600 x 600 DPI Printer Page size: A4, Letter, Legal; Maximum Input Sheet Capacity: 150 sheets; Power wattage of printer: 320 watts (Active Printing), 33 watts (Ready), 1.1 watts (Sleep), 0.2 watts (Manual off), 0.2 watts (Auto off/Manual on) Ideal Usage: Home/Office; Included Components: Preinstalled introductory HP LaserJet Black print cartridges (~1.5K pages, CH/IN); Setup Guide; Reference Guide; Regulatory Statements Flyer; Power cord; USB cable; wifi band supported:Yes, built-in Wi-Fi 802.11b/g/n \"COMPACT DESIGN : Surprisingly small size, exceptional print quality; AFPORDABLE PRINTING: Rely on a high-performance laser printer at an affordable price RELIABLE CONNECTIVITY: Wi-Fi 802.11b/g/n; 1 Hi-Speed USB 2.0 (port); RELIABLE HP QUALITY : Produce sharp text, bold blacks and crisp graphics\" SAVE YOUR PRODUCTIVE TIME : Business does not need to wait for your printer. Help maximize your uptime with print speeds up to 20 ppm; INCREASE EFFICIENCY with LED indicator lights (Power, Toner, Attention); SAVE ENERGY with HP Auto On/Off Technology BEST-IN-CLASS MOBILE APP : HP Smart App - Get the app that\\'s designed to control your printer. Get simple setup and print, scan, and copy from your phone with the HP Smart app. Connect via Wi-Fi or Ethernet and you\\'ll be all set for mobile printing success PEACE OF MIND SERVICE SUPPORT: Standard HP Onsite 1 year warranty. Additional Warranty packs availiable ( 3yr & 5yr packs) Price: MRP: Rs. 15,840 Offer Price: Rs. 14,011 (Includes GST of Rs. 2137) Technical Details: Brand HP Manufacturer .HP, Futaihua Precision Industry (Weihai) Co. Ltd., Jinzhou Road 29#, Hi-Tech IDZ, Weihai, Shangdong Series HP LASER 1008W PRINTER Colour White Form Factor Printer Item Height 21.5 Centimeters Item Width 17.8 Centimeters Product Dimensions 33.1 x 17.8 x 21.5 cm; 4.23 Kilograms Item model number 714Z9A Operating System Windows Included Components Preinstalled introductory HP Laser Black print cartridges (~1.5K pages); Setup Guide; Reference Guide; Regulatory Statements Flyer; Power cord; USB cable Manufacturer HP Country of Origin China Item Weight 4 kg 230 g Additional Details: Date First Available 13 April 2023 .Packer Futaihua Precision',\n",
       " 'Regulatory Statements Flyer; Power cord; USB cable Manufacturer HP Country of Origin China Item Weight 4 kg 230 g Additional Details: Date First Available 13 April 2023 .Packer Futaihua Precision Industry (Weihai) Co. Ltd., Jinzhou Road 29#, Hi-Tech IDZ, Weihai, Shangdong Importer HP India Sales Private Ltd. 24, Salarpuria Arena, Hosur Main Road Adugodi, Bangalore- 560030 Item Dimensions LxWxH 33.1 x 17.8 x 21.5 Centimeters Net Quantity 1 Count Generic Name Laser Printer Product Reviews: Overall Rating: 3.4 Some of the customer reviews are: Worst printer, it often goes offline, has connectivity issues frequently. It is a nightmare going for Wi-Fi printer. Wi-Fi is also not stable, requires frequent re-installation of Drivers. It is not a plug & use item like TV or even laptop. Multipurpose printer for home and office. You need to rotate and then again install the sheet to get front and back print. Overall, it is good. Pros: Print speed up to 20 ppm (black) LED display Up to 100 sheets output Print & scan from your smartphone Cons: Manual duplex scanning feature is present. Wireless configuration is difficult resulting in lockout due to IP address protection']"
      ]
     },
     "execution_count": 46,
     "metadata": {},
     "output_type": "execute_result"
    }
   ],
   "source": [
    "_split_text('.'.join(text_list))"
   ]
  },
  {
   "cell_type": "code",
   "execution_count": 41,
   "metadata": {},
   "outputs": [
    {
     "data": {
      "text/plain": [
       "2349"
      ]
     },
     "execution_count": 41,
     "metadata": {},
     "output_type": "execute_result"
    }
   ],
   "source": [
    "len(_split_text(text_list[0])[0])"
   ]
  },
  {
   "cell_type": "code",
   "execution_count": 50,
   "metadata": {},
   "outputs": [],
   "source": [
    "from langchain.document_loaders import PyPDFLoader\n",
    "\n",
    "loader = PyPDFLoader(\".\\\\media\\\\AccurioPrint C4065 Copier.pdf\")\n",
    "pages = loader.load()"
   ]
  },
  {
   "cell_type": "code",
   "execution_count": 53,
   "metadata": {},
   "outputs": [
    {
     "data": {
      "text/plain": [
       "[Document(page_content='AccurioPrint C4065 Copier The AccurioPrint C4065 offers high productivity and media versatility as a compact and affordable unit. Perfect for lower volume requirements, it offers professional image and colour quality, media versatility and fast upto 66 ppm (A4, Colour), 81 ppm (A4, black & white). About this item: Durable Performance: Up to 66 A4 color pages per minute Up to 37 A3 color pages per minute 2-sided banner printing, excellent image quality and so much more, the AccurioPrint C4065 from Konica Minolta truly does it all in a compact printing footprint. This revolutionary color production press printer has all the features to your business needs to easily develop new revenue streams and expand into new markets. Ready-made print products: Stacking of up to 4,200 sheets Two-point and corner stapling of up to 100 sheets with automatic staple cut mechanism Booklet Making up to 80 pages (20 sheets) 2- and 4 -hole punching Tri-Fold up to 3 sheets Sophisticated media handling: Air suction or air-assisted paper feeding technology Up to 5 paper trays Long sheet printing of up to 1300mm (simplex) and 864 (duplex) Price: Rs. 1400000/piece (approx.) Technical Specifications: Type Console', metadata={}),\n",
       " Document(page_content='Color availability Color Scanning resolution 600 dpi x 600 dpi Writing resolution Equivalent to 3600 dpi x 2400 dpi Copy Speed A4 -Simplex: 66 ppm A3 -Simplex: 37 ppm 217-360 GSM 45 A4/26 A3 Gradation 256 Paper sizes (max.) 330.2 x 487.7 mm 330.2 x 864 mm (max. duplex) 330.2 x 1300 mm (max. simplex) Standard Paper Tray Capacity 1500 sheets A4 80 GSM Magnification 25 – 400%, in 0.1% steps System Memory 8GB Warm-up Time 390 seconds or less First Copy/Printing Time (Color/Monochrome) 6.5 seconds or less(A4) colour 4.0 seconds or less (A4) B&W', metadata={}),\n",
       " Document(page_content='Scan speed (A4) Single-sided 140 opm*3| Duplex 280 opm*1 Envelope Printing Standard Main Unit Size(WxDxH mm) (Recommended) configuration 84.65 x 35.55 x 58.19 inches (2,150 x 903 x 1478 mm) (main unit + DF-713 + LU-202m + FS-532 + IC-607) Power Consumption 3840 W or less(Main body) Duty Cycle 7,02,0002 Average Monthly Print Volume Upto 26,500 (A4) Architecture Internal OS Linux CPU Intel Pentium C4400 Clock Speed 3.2 GHz RAM Std 16 GB HDD', metadata={}),\n",
       " Document(page_content='2 TB (2 x 1TB) Page-description language Adobe® PostScript® 3; PDF v1.7; TIFF (v6); PPML v2.2 Applicable OS Windows 8.1/10; Windows Server 2012/R2/2016/2019; Mac OS X 10.11~10.15 Customer Reviews: The AccurioPrint C4065 digital press offers productivity and versatility in one compact, affordable unit. It is the perfect digital press for lower-volume print shops, corporate reprographics departments, and office environments. Pros: Print speeds 65 color ppm or 80 black & white ppm output Output 2-sided printing sheets up to 34” long Amazing image quality - 3600 (equivalent) x 2400 Produce envelopes with ease and without the need for additional fuser', metadata={})]"
      ]
     },
     "execution_count": 53,
     "metadata": {},
     "output_type": "execute_result"
    }
   ],
   "source": [
    "texts"
   ]
  },
  {
   "cell_type": "code",
   "execution_count": 45,
   "metadata": {},
   "outputs": [
    {
     "data": {
      "text/plain": [
       "\"Instructions: Compose a comprehensive reply to the query using the product details given.Cite each reference using [pdfname.pdf , page : number] notation (every result has this number at the beginning).Citation should be done at the end of each sentence. If the search results mention multiple subjectswith the same name, create separate answers for each. Only include information found in the results anddon't add any additional information. Make sure the answer is correct and don't output false content.If the text does not relate to the query, simply state 'Found Nothing'. Don't write 'Answer:'Directly start the answer.\""
      ]
     },
     "execution_count": 45,
     "metadata": {},
     "output_type": "execute_result"
    }
   ],
   "source": []
  },
  {
   "cell_type": "code",
   "execution_count": null,
   "metadata": {},
   "outputs": [],
   "source": []
  }
 ],
 "metadata": {
  "kernelspec": {
   "display_name": "torch_env",
   "language": "python",
   "name": "python3"
  },
  "language_info": {
   "codemirror_mode": {
    "name": "ipython",
    "version": 3
   },
   "file_extension": ".py",
   "mimetype": "text/x-python",
   "name": "python",
   "nbconvert_exporter": "python",
   "pygments_lexer": "ipython3",
   "version": "3.9.18"
  },
  "orig_nbformat": 4
 },
 "nbformat": 4,
 "nbformat_minor": 2
}
