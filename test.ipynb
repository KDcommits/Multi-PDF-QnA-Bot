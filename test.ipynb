{
 "cells": [
  {
   "cell_type": "code",
   "execution_count": 1,
   "metadata": {},
   "outputs": [
    {
     "name": "stderr",
     "output_type": "stream",
     "text": [
      "c:\\Users\\krish\\anaconda3\\envs\\torch_env\\lib\\site-packages\\tqdm\\auto.py:21: TqdmWarning: IProgress not found. Please update jupyter and ipywidgets. See https://ipywidgets.readthedocs.io/en/stable/user_install.html\n",
      "  from .autonotebook import tqdm as notebook_tqdm\n"
     ]
    },
    {
     "name": "stdout",
     "output_type": "stream",
     "text": [
      "Dimension of the Embedding :  384\n"
     ]
    }
   ],
   "source": [
    "from langchain.embeddings import HuggingFaceEmbeddings\n",
    "from langchain.embeddings.openai import OpenAIEmbeddings\n",
    "# from sentence_transformers import SentenceTransformer\n",
    "import os \n",
    "from langchain.text_splitter import RecursiveCharacterTextSplitter\n",
    "from langchain.document_loaders import PyPDFLoader, DirectoryLoader\n",
    "from langchain.vectorstores import FAISS\n",
    "model = HuggingFaceEmbeddings(model_name='sentence-transformers/all-MiniLM-L6-v2', \n",
    "                                            model_kwargs={'device':'cuda'})\n",
    "# model = sentence_transformer( model_name ='sentence-transformers/all-MiniLM-L6-v2')\n",
    "sample_encoding = model.embed_query(\"Sample Sentence\")\n",
    "print(\"Dimension of the Embedding : \", len(sample_encoding))"
   ]
  },
  {
   "cell_type": "code",
   "execution_count": 2,
   "metadata": {},
   "outputs": [
    {
     "name": "stdout",
     "output_type": "stream",
     "text": [
      "Dimension of the Embedding :  1536\n"
     ]
    }
   ],
   "source": [
    "openai_embedding_model = OpenAIEmbeddings(model='text-embedding-ada-002',\n",
    "                                                       openai_api_key=os.getenv('OPENAI_KEY'))\n",
    "sample_encoding = openai_embedding_model.embed_query(\"Sample Sentence\")\n",
    "print(\"Dimension of the Embedding : \", len(sample_encoding))"
   ]
  },
  {
   "cell_type": "code",
   "execution_count": 13,
   "metadata": {},
   "outputs": [],
   "source": [
    "import os\n",
    "import pandas as pd\n",
    "from dateutil.parser import parse\n",
    "df = pd.read_csv('.\\\\Canon Open Source Data\\\\excel knowledge base.txt', delimiter='\\t')\n",
    "df.drop([0], axis=0, inplace=True)\n",
    "df.drop('Field name', axis =1 , inplace=True)\n",
    "df.rename(columns={'Record No.':'index'}, inplace=True)\n",
    "df.drop('index', axis=1, inplace =True)\n",
    "df.fillna(\"Not Available\", inplace =True)\n",
    "df['Date'] = [parse(df.loc[i].Date) for i in df.index.to_list()]"
   ]
  },
  {
   "cell_type": "code",
   "execution_count": 14,
   "metadata": {},
   "outputs": [
    {
     "data": {
      "text/html": [
       "<div>\n",
       "<style scoped>\n",
       "    .dataframe tbody tr th:only-of-type {\n",
       "        vertical-align: middle;\n",
       "    }\n",
       "\n",
       "    .dataframe tbody tr th {\n",
       "        vertical-align: top;\n",
       "    }\n",
       "\n",
       "    .dataframe thead th {\n",
       "        text-align: right;\n",
       "    }\n",
       "</style>\n",
       "<table border=\"1\" class=\"dataframe\">\n",
       "  <thead>\n",
       "    <tr style=\"text-align: right;\">\n",
       "      <th></th>\n",
       "      <th>Date</th>\n",
       "      <th>Department</th>\n",
       "      <th>Product</th>\n",
       "      <th>Zone</th>\n",
       "      <th>State</th>\n",
       "      <th>Category</th>\n",
       "      <th>Competetor_Product_Information</th>\n",
       "      <th>Attachment</th>\n",
       "    </tr>\n",
       "  </thead>\n",
       "  <tbody>\n",
       "    <tr>\n",
       "      <th>1</th>\n",
       "      <td>2023-06-23</td>\n",
       "      <td>PCC-BIS</td>\n",
       "      <td>CS</td>\n",
       "      <td>India</td>\n",
       "      <td>#VALUE!</td>\n",
       "      <td>Economic</td>\n",
       "      <td>Due to Growth in Road Logistics Industry New O...</td>\n",
       "      <td>Not Available</td>\n",
       "    </tr>\n",
       "    <tr>\n",
       "      <th>2</th>\n",
       "      <td>2023-06-23</td>\n",
       "      <td>PCC-BIS</td>\n",
       "      <td>CS</td>\n",
       "      <td>West</td>\n",
       "      <td>#VALUE!</td>\n",
       "      <td>Product</td>\n",
       "      <td>Sharp organized partners meet synergy at Goa i...</td>\n",
       "      <td>Not Available</td>\n",
       "    </tr>\n",
       "    <tr>\n",
       "      <th>3</th>\n",
       "      <td>2023-06-30</td>\n",
       "      <td>PCC-PPP</td>\n",
       "      <td>PPP</td>\n",
       "      <td>India</td>\n",
       "      <td>#VALUE!</td>\n",
       "      <td>Product</td>\n",
       "      <td>HP is very aggressively positioning Z6 series ...</td>\n",
       "      <td>Not Available</td>\n",
       "    </tr>\n",
       "    <tr>\n",
       "      <th>4</th>\n",
       "      <td>2023-06-29</td>\n",
       "      <td>PBC</td>\n",
       "      <td>ICB</td>\n",
       "      <td>East</td>\n",
       "      <td>#VALUE!</td>\n",
       "      <td>Product</td>\n",
       "      <td>Nikon &amp; Sony started promoting Z8 and Zve1 vis...</td>\n",
       "      <td>Not Available</td>\n",
       "    </tr>\n",
       "    <tr>\n",
       "      <th>5</th>\n",
       "      <td>2023-06-22</td>\n",
       "      <td>CBC-PPP</td>\n",
       "      <td>PPP</td>\n",
       "      <td>India</td>\n",
       "      <td>#VALUE!</td>\n",
       "      <td>Market footfall</td>\n",
       "      <td>Konica Minolta demo on wheels had good respons...</td>\n",
       "      <td>Not Available</td>\n",
       "    </tr>\n",
       "    <tr>\n",
       "      <th>...</th>\n",
       "      <td>...</td>\n",
       "      <td>...</td>\n",
       "      <td>...</td>\n",
       "      <td>...</td>\n",
       "      <td>...</td>\n",
       "      <td>...</td>\n",
       "      <td>...</td>\n",
       "      <td>...</td>\n",
       "    </tr>\n",
       "    <tr>\n",
       "      <th>83</th>\n",
       "      <td>2023-07-14</td>\n",
       "      <td>PBC-South</td>\n",
       "      <td>ICB</td>\n",
       "      <td>South</td>\n",
       "      <td>#VALUE!</td>\n",
       "      <td>Product</td>\n",
       "      <td>Sony A7M4 sellout is good in the market.</td>\n",
       "      <td>Not Available</td>\n",
       "    </tr>\n",
       "    <tr>\n",
       "      <th>84</th>\n",
       "      <td>2023-07-14</td>\n",
       "      <td>PBC-South</td>\n",
       "      <td>ICB</td>\n",
       "      <td>South</td>\n",
       "      <td>#VALUE!</td>\n",
       "      <td>Product</td>\n",
       "      <td>Sony New model A7R5 stocks reached outlets las...</td>\n",
       "      <td>Not Available</td>\n",
       "    </tr>\n",
       "    <tr>\n",
       "      <th>85</th>\n",
       "      <td>2023-07-14</td>\n",
       "      <td>PBC-South</td>\n",
       "      <td>ICB</td>\n",
       "      <td>South</td>\n",
       "      <td>#VALUE!</td>\n",
       "      <td>Product</td>\n",
       "      <td>Sony APS-C stocks likely to hit market post 15...</td>\n",
       "      <td>Not Available</td>\n",
       "    </tr>\n",
       "    <tr>\n",
       "      <th>86</th>\n",
       "      <td>2023-07-14</td>\n",
       "      <td>PBC-South</td>\n",
       "      <td>ICB</td>\n",
       "      <td>South</td>\n",
       "      <td>#VALUE!</td>\n",
       "      <td>Product</td>\n",
       "      <td>Nikon Z8 stocks are available in market but no...</td>\n",
       "      <td>Not Available</td>\n",
       "    </tr>\n",
       "    <tr>\n",
       "      <th>87</th>\n",
       "      <td>2023-07-14</td>\n",
       "      <td>PBC-South</td>\n",
       "      <td>CS</td>\n",
       "      <td>South</td>\n",
       "      <td>#VALUE!</td>\n",
       "      <td>Product</td>\n",
       "      <td>Epson distributors are reducing L series prici...</td>\n",
       "      <td>Not Available</td>\n",
       "    </tr>\n",
       "  </tbody>\n",
       "</table>\n",
       "<p>87 rows × 8 columns</p>\n",
       "</div>"
      ],
      "text/plain": [
       "         Date Department Product   Zone    State         Category  \\\n",
       "1  2023-06-23    PCC-BIS      CS  India  #VALUE!         Economic   \n",
       "2  2023-06-23    PCC-BIS      CS   West  #VALUE!          Product   \n",
       "3  2023-06-30    PCC-PPP     PPP  India  #VALUE!          Product   \n",
       "4  2023-06-29        PBC     ICB   East  #VALUE!          Product   \n",
       "5  2023-06-22    CBC-PPP     PPP  India  #VALUE!  Market footfall   \n",
       "..        ...        ...     ...    ...      ...              ...   \n",
       "83 2023-07-14  PBC-South     ICB  South  #VALUE!          Product   \n",
       "84 2023-07-14  PBC-South     ICB  South  #VALUE!          Product   \n",
       "85 2023-07-14  PBC-South     ICB  South  #VALUE!          Product   \n",
       "86 2023-07-14  PBC-South     ICB  South  #VALUE!          Product   \n",
       "87 2023-07-14  PBC-South      CS  South  #VALUE!          Product   \n",
       "\n",
       "                       Competetor_Product_Information     Attachment  \n",
       "1   Due to Growth in Road Logistics Industry New O...  Not Available  \n",
       "2   Sharp organized partners meet synergy at Goa i...  Not Available  \n",
       "3   HP is very aggressively positioning Z6 series ...  Not Available  \n",
       "4   Nikon & Sony started promoting Z8 and Zve1 vis...  Not Available  \n",
       "5   Konica Minolta demo on wheels had good respons...  Not Available  \n",
       "..                                                ...            ...  \n",
       "83           Sony A7M4 sellout is good in the market.  Not Available  \n",
       "84  Sony New model A7R5 stocks reached outlets las...  Not Available  \n",
       "85  Sony APS-C stocks likely to hit market post 15...  Not Available  \n",
       "86  Nikon Z8 stocks are available in market but no...  Not Available  \n",
       "87  Epson distributors are reducing L series prici...  Not Available  \n",
       "\n",
       "[87 rows x 8 columns]"
      ]
     },
     "execution_count": 14,
     "metadata": {},
     "output_type": "execute_result"
    }
   ],
   "source": [
    "df"
   ]
  },
  {
   "cell_type": "code",
   "execution_count": 16,
   "metadata": {},
   "outputs": [],
   "source": [
    "df.to_csv('.\\\\Canon Open Source Data\\\\knowledgeBase.csv')"
   ]
  },
  {
   "cell_type": "code",
   "execution_count": 17,
   "metadata": {},
   "outputs": [
    {
     "name": "stdout",
     "output_type": "stream",
     "text": [
      "True\n"
     ]
    }
   ],
   "source": [
    "import mysql.connector as connection \n",
    "\n",
    "try:\n",
    "    mydb=connection.connect(host=\"localhost\",user=\"root\",password='1320')\n",
    "    print(mydb.is_connected())                                   \n",
    "    #mydb.close()\n",
    "except Exception as e:\n",
    "    print(str(e))"
   ]
  },
  {
   "cell_type": "code",
   "execution_count": 3,
   "metadata": {},
   "outputs": [
    {
     "name": "stdout",
     "output_type": "stream",
     "text": [
      "Database created !\n"
     ]
    }
   ],
   "source": [
    "# creating a new database \n",
    "\n",
    "query= \"create database CanonDB\"\n",
    "cursor=mydb.cursor()           \n",
    "cursor.execute(query)          \n",
    "print(\"Database created !\")"
   ]
  },
  {
   "cell_type": "code",
   "execution_count": 18,
   "metadata": {},
   "outputs": [
    {
     "name": "stdout",
     "output_type": "stream",
     "text": [
      "True\n"
     ]
    }
   ],
   "source": [
    "try:\n",
    "    mydb=connection.connect(host=\"localhost\",database=\"canonDB\",user=\"root\",password=\"1320\",use_pure=True)\n",
    "    print(mydb.is_connected())                                   # To check if connection is established with the Database\n",
    "    #mydb.close()\n",
    "except Exception as e:\n",
    "    print(str(e))"
   ]
  },
  {
   "cell_type": "code",
   "execution_count": 8,
   "metadata": {},
   "outputs": [],
   "source": [
    "db=connection.connect(host=\"localhost\",database='canonDB',user=\"root\",password=\"1320\",use_pure=True)\n",
    "cursor=db.cursor()\n",
    "query = \"Drop table canon\"\n",
    "cursor.execute(query)\n",
    "db.commit()"
   ]
  },
  {
   "cell_type": "code",
   "execution_count": 19,
   "metadata": {},
   "outputs": [],
   "source": [
    "# Step 4 : Inserting data into the Table\n",
    "\n",
    "db=connection.connect(host=\"localhost\",database='canonDB',user=\"root\",password=\"1320\",use_pure=True)\n",
    "cursor=db.cursor()\n",
    "\n",
    "# cols = \"`,`\".join(['ID']+[str(i) for i in df.columns.tolist()])\n",
    "colvalues=[]\n",
    "for i,row in df.iterrows():\n",
    "    colvalues.append(tuple([i+1]+list(row)))\n",
    "\n",
    "# Insert DataFrame recrds one by one.\n",
    "for i in colvalues:\n",
    "    try:\n",
    "        query = \"INSERT INTO CANON VALUES{}\".format(i)\n",
    "        cursor.execute(query)\n",
    "        db.commit()\n",
    "    except Exception as e:\n",
    "        print(e)"
   ]
  },
  {
   "cell_type": "code",
   "execution_count": 20,
   "metadata": {},
   "outputs": [
    {
     "name": "stderr",
     "output_type": "stream",
     "text": [
      "C:\\Users\\krish\\AppData\\Local\\Temp\\ipykernel_24580\\3438997778.py:4: UserWarning: pandas only supports SQLAlchemy connectable (engine/connection) or database string URI or sqlite3 DBAPI2 connection. Other DBAPI2 objects are not tested. Please consider using SQLAlchemy.\n",
      "  df=pd.read_sql(query,db)\n"
     ]
    },
    {
     "data": {
      "text/html": [
       "<div>\n",
       "<style scoped>\n",
       "    .dataframe tbody tr th:only-of-type {\n",
       "        vertical-align: middle;\n",
       "    }\n",
       "\n",
       "    .dataframe tbody tr th {\n",
       "        vertical-align: top;\n",
       "    }\n",
       "\n",
       "    .dataframe thead th {\n",
       "        text-align: right;\n",
       "    }\n",
       "</style>\n",
       "<table border=\"1\" class=\"dataframe\">\n",
       "  <thead>\n",
       "    <tr style=\"text-align: right;\">\n",
       "      <th></th>\n",
       "      <th>index</th>\n",
       "      <th>Date</th>\n",
       "      <th>Department</th>\n",
       "      <th>Product</th>\n",
       "      <th>Zone</th>\n",
       "      <th>State</th>\n",
       "      <th>Category</th>\n",
       "      <th>Competetor_Product_Information</th>\n",
       "      <th>Attachment</th>\n",
       "    </tr>\n",
       "  </thead>\n",
       "  <tbody>\n",
       "    <tr>\n",
       "      <th>0</th>\n",
       "      <td>2</td>\n",
       "      <td>2023-06-23</td>\n",
       "      <td>PCC-BIS</td>\n",
       "      <td>CS</td>\n",
       "      <td>India</td>\n",
       "      <td>#VALUE!</td>\n",
       "      <td>Economic</td>\n",
       "      <td>Due to Growth in Road Logistics Industry New O...</td>\n",
       "      <td>Not Available</td>\n",
       "    </tr>\n",
       "    <tr>\n",
       "      <th>1</th>\n",
       "      <td>3</td>\n",
       "      <td>2023-06-23</td>\n",
       "      <td>PCC-BIS</td>\n",
       "      <td>CS</td>\n",
       "      <td>West</td>\n",
       "      <td>#VALUE!</td>\n",
       "      <td>Product</td>\n",
       "      <td>Sharp organized partners meet synergy at Goa i...</td>\n",
       "      <td>Not Available</td>\n",
       "    </tr>\n",
       "    <tr>\n",
       "      <th>2</th>\n",
       "      <td>4</td>\n",
       "      <td>2023-06-30</td>\n",
       "      <td>PCC-PPP</td>\n",
       "      <td>PPP</td>\n",
       "      <td>India</td>\n",
       "      <td>#VALUE!</td>\n",
       "      <td>Product</td>\n",
       "      <td>HP is very aggressively positioning Z6 series ...</td>\n",
       "      <td>Not Available</td>\n",
       "    </tr>\n",
       "  </tbody>\n",
       "</table>\n",
       "</div>"
      ],
      "text/plain": [
       "   index        Date Department Product   Zone    State  Category  \\\n",
       "0      2  2023-06-23    PCC-BIS      CS  India  #VALUE!  Economic   \n",
       "1      3  2023-06-23    PCC-BIS      CS   West  #VALUE!   Product   \n",
       "2      4  2023-06-30    PCC-PPP     PPP  India  #VALUE!   Product   \n",
       "\n",
       "                      Competetor_Product_Information     Attachment  \n",
       "0  Due to Growth in Road Logistics Industry New O...  Not Available  \n",
       "1  Sharp organized partners meet synergy at Goa i...  Not Available  \n",
       "2  HP is very aggressively positioning Z6 series ...  Not Available  "
      ]
     },
     "execution_count": 20,
     "metadata": {},
     "output_type": "execute_result"
    }
   ],
   "source": [
    "# Step5 : Retreiving the same data from the MYSQLdatabase \n",
    "db=connection.connect(host=\"localhost\",database='canonDB',user=\"root\",password=\"1320\",use_pure=True)\n",
    "query=\"Select * from Canon\"\n",
    "df=pd.read_sql(query,db)\n",
    "df.head(3)"
   ]
  },
  {
   "cell_type": "code",
   "execution_count": 21,
   "metadata": {},
   "outputs": [
    {
     "data": {
      "text/plain": [
       "index                              int64\n",
       "Date                              object\n",
       "Department                        object\n",
       "Product                           object\n",
       "Zone                              object\n",
       "State                             object\n",
       "Category                          object\n",
       "Competetor_Product_Information    object\n",
       "Attachment                        object\n",
       "dtype: object"
      ]
     },
     "execution_count": 21,
     "metadata": {},
     "output_type": "execute_result"
    }
   ],
   "source": [
    "df.dtypes"
   ]
  },
  {
   "cell_type": "code",
   "execution_count": 1,
   "metadata": {},
   "outputs": [],
   "source": [
    "db=connection.connect(host=\"localhost\",database='canonDB',user=\"root\",password=\"1320\",use_pure=True)\n",
    "query=\"drop table canon\"\n",
    "df=pd.read_sql(query,db)\n",
    "df.head(3)"
   ]
  },
  {
   "cell_type": "code",
   "execution_count": 5,
   "metadata": {},
   "outputs": [
    {
     "ename": "OSError",
     "evalue": "[WinError 145] The directory is not empty: 'media'",
     "output_type": "error",
     "traceback": [
      "\u001b[1;31m---------------------------------------------------------------------------\u001b[0m",
      "\u001b[1;31mOSError\u001b[0m                                   Traceback (most recent call last)",
      "Cell \u001b[1;32mIn[5], line 1\u001b[0m\n\u001b[1;32m----> 1\u001b[0m os\u001b[39m.\u001b[39;49mrmdir(\u001b[39m'\u001b[39;49m\u001b[39mmedia\u001b[39;49m\u001b[39m'\u001b[39;49m)\n",
      "\u001b[1;31mOSError\u001b[0m: [WinError 145] The directory is not empty: 'media'"
     ]
    }
   ],
   "source": [
    "current_path = os.getcwd()\n",
    "media_path = \n",
    "os.rmdir('media')"
   ]
  },
  {
   "cell_type": "code",
   "execution_count": 3,
   "metadata": {},
   "outputs": [
    {
     "data": {
      "text/plain": [
       "'c:\\\\Users\\\\krish\\\\OneDrive\\\\Desktop\\\\Study\\\\Gen AI\\\\Multi-PDF-QnA-Bot'"
      ]
     },
     "execution_count": 3,
     "metadata": {},
     "output_type": "execute_result"
    }
   ],
   "source": [
    "%pwd"
   ]
  },
  {
   "cell_type": "code",
   "execution_count": 13,
   "metadata": {},
   "outputs": [],
   "source": [
    "\n",
    "\n"
   ]
  },
  {
   "cell_type": "code",
   "execution_count": 2,
   "metadata": {},
   "outputs": [
    {
     "data": {
      "text/html": [
       "<div>\n",
       "<style scoped>\n",
       "    .dataframe tbody tr th:only-of-type {\n",
       "        vertical-align: middle;\n",
       "    }\n",
       "\n",
       "    .dataframe tbody tr th {\n",
       "        vertical-align: top;\n",
       "    }\n",
       "\n",
       "    .dataframe thead th {\n",
       "        text-align: right;\n",
       "    }\n",
       "</style>\n",
       "<table border=\"1\" class=\"dataframe\">\n",
       "  <thead>\n",
       "    <tr style=\"text-align: right;\">\n",
       "      <th></th>\n",
       "      <th>index</th>\n",
       "      <th>Date</th>\n",
       "      <th>Department</th>\n",
       "      <th>Product</th>\n",
       "      <th>Zone</th>\n",
       "      <th>State</th>\n",
       "      <th>Category</th>\n",
       "      <th>Competetor_Product_Information</th>\n",
       "      <th>Attachment</th>\n",
       "    </tr>\n",
       "  </thead>\n",
       "  <tbody>\n",
       "    <tr>\n",
       "      <th>0</th>\n",
       "      <td>0</td>\n",
       "      <td>2023-06-23</td>\n",
       "      <td>PCC-BIS</td>\n",
       "      <td>CS</td>\n",
       "      <td>India</td>\n",
       "      <td>#VALUE!</td>\n",
       "      <td>Economic</td>\n",
       "      <td>Due to Growth in Road Logistics Industry New O...</td>\n",
       "      <td>Not Available</td>\n",
       "    </tr>\n",
       "    <tr>\n",
       "      <th>1</th>\n",
       "      <td>1</td>\n",
       "      <td>2023-06-23</td>\n",
       "      <td>PCC-BIS</td>\n",
       "      <td>CS</td>\n",
       "      <td>West</td>\n",
       "      <td>#VALUE!</td>\n",
       "      <td>Product</td>\n",
       "      <td>Sharp organized partners meet synergy at Goa i...</td>\n",
       "      <td>Not Available</td>\n",
       "    </tr>\n",
       "    <tr>\n",
       "      <th>2</th>\n",
       "      <td>2</td>\n",
       "      <td>2023-06-30</td>\n",
       "      <td>PCC-PPP</td>\n",
       "      <td>PPP</td>\n",
       "      <td>India</td>\n",
       "      <td>#VALUE!</td>\n",
       "      <td>Product</td>\n",
       "      <td>HP is very aggressively positioning Z6 series ...</td>\n",
       "      <td>Not Available</td>\n",
       "    </tr>\n",
       "    <tr>\n",
       "      <th>3</th>\n",
       "      <td>3</td>\n",
       "      <td>2023-06-29</td>\n",
       "      <td>PBC</td>\n",
       "      <td>ICB</td>\n",
       "      <td>East</td>\n",
       "      <td>#VALUE!</td>\n",
       "      <td>Product</td>\n",
       "      <td>Nikon &amp; Sony started promoting Z8 and Zve1 vis...</td>\n",
       "      <td>Not Available</td>\n",
       "    </tr>\n",
       "    <tr>\n",
       "      <th>4</th>\n",
       "      <td>4</td>\n",
       "      <td>2023-06-22</td>\n",
       "      <td>CBC-PPP</td>\n",
       "      <td>PPP</td>\n",
       "      <td>India</td>\n",
       "      <td>#VALUE!</td>\n",
       "      <td>Market footfall</td>\n",
       "      <td>Konica Minolta demo on wheels had good respons...</td>\n",
       "      <td>Not Available</td>\n",
       "    </tr>\n",
       "    <tr>\n",
       "      <th>...</th>\n",
       "      <td>...</td>\n",
       "      <td>...</td>\n",
       "      <td>...</td>\n",
       "      <td>...</td>\n",
       "      <td>...</td>\n",
       "      <td>...</td>\n",
       "      <td>...</td>\n",
       "      <td>...</td>\n",
       "      <td>...</td>\n",
       "    </tr>\n",
       "    <tr>\n",
       "      <th>82</th>\n",
       "      <td>82</td>\n",
       "      <td>2023-07-14</td>\n",
       "      <td>PBC-South</td>\n",
       "      <td>ICB</td>\n",
       "      <td>South</td>\n",
       "      <td>#VALUE!</td>\n",
       "      <td>Product</td>\n",
       "      <td>Sony A7M4 sellout is good in the market.</td>\n",
       "      <td>Not Available</td>\n",
       "    </tr>\n",
       "    <tr>\n",
       "      <th>83</th>\n",
       "      <td>83</td>\n",
       "      <td>2023-07-14</td>\n",
       "      <td>PBC-South</td>\n",
       "      <td>ICB</td>\n",
       "      <td>South</td>\n",
       "      <td>#VALUE!</td>\n",
       "      <td>Product</td>\n",
       "      <td>Sony New model A7R5 stocks reached outlets las...</td>\n",
       "      <td>Not Available</td>\n",
       "    </tr>\n",
       "    <tr>\n",
       "      <th>84</th>\n",
       "      <td>84</td>\n",
       "      <td>2023-07-14</td>\n",
       "      <td>PBC-South</td>\n",
       "      <td>ICB</td>\n",
       "      <td>South</td>\n",
       "      <td>#VALUE!</td>\n",
       "      <td>Product</td>\n",
       "      <td>Sony APS-C stocks likely to hit market post 15...</td>\n",
       "      <td>Not Available</td>\n",
       "    </tr>\n",
       "    <tr>\n",
       "      <th>85</th>\n",
       "      <td>85</td>\n",
       "      <td>2023-07-14</td>\n",
       "      <td>PBC-South</td>\n",
       "      <td>ICB</td>\n",
       "      <td>South</td>\n",
       "      <td>#VALUE!</td>\n",
       "      <td>Product</td>\n",
       "      <td>Nikon Z8 stocks are available in market but no...</td>\n",
       "      <td>Not Available</td>\n",
       "    </tr>\n",
       "    <tr>\n",
       "      <th>86</th>\n",
       "      <td>86</td>\n",
       "      <td>2023-07-14</td>\n",
       "      <td>PBC-South</td>\n",
       "      <td>CS</td>\n",
       "      <td>South</td>\n",
       "      <td>#VALUE!</td>\n",
       "      <td>Product</td>\n",
       "      <td>Epson distributors are reducing L series prici...</td>\n",
       "      <td>Not Available</td>\n",
       "    </tr>\n",
       "  </tbody>\n",
       "</table>\n",
       "<p>87 rows × 9 columns</p>\n",
       "</div>"
      ],
      "text/plain": [
       "    index       Date Department Product   Zone    State         Category  \\\n",
       "0       0 2023-06-23    PCC-BIS      CS  India  #VALUE!         Economic   \n",
       "1       1 2023-06-23    PCC-BIS      CS   West  #VALUE!          Product   \n",
       "2       2 2023-06-30    PCC-PPP     PPP  India  #VALUE!          Product   \n",
       "3       3 2023-06-29        PBC     ICB   East  #VALUE!          Product   \n",
       "4       4 2023-06-22    CBC-PPP     PPP  India  #VALUE!  Market footfall   \n",
       "..    ...        ...        ...     ...    ...      ...              ...   \n",
       "82     82 2023-07-14  PBC-South     ICB  South  #VALUE!          Product   \n",
       "83     83 2023-07-14  PBC-South     ICB  South  #VALUE!          Product   \n",
       "84     84 2023-07-14  PBC-South     ICB  South  #VALUE!          Product   \n",
       "85     85 2023-07-14  PBC-South     ICB  South  #VALUE!          Product   \n",
       "86     86 2023-07-14  PBC-South      CS  South  #VALUE!          Product   \n",
       "\n",
       "                       Competetor_Product_Information     Attachment  \n",
       "0   Due to Growth in Road Logistics Industry New O...  Not Available  \n",
       "1   Sharp organized partners meet synergy at Goa i...  Not Available  \n",
       "2   HP is very aggressively positioning Z6 series ...  Not Available  \n",
       "3   Nikon & Sony started promoting Z8 and Zve1 vis...  Not Available  \n",
       "4   Konica Minolta demo on wheels had good respons...  Not Available  \n",
       "..                                                ...            ...  \n",
       "82           Sony A7M4 sellout is good in the market.  Not Available  \n",
       "83  Sony New model A7R5 stocks reached outlets las...  Not Available  \n",
       "84  Sony APS-C stocks likely to hit market post 15...  Not Available  \n",
       "85  Nikon Z8 stocks are available in market but no...  Not Available  \n",
       "86  Epson distributors are reducing L series prici...  Not Available  \n",
       "\n",
       "[87 rows x 9 columns]"
      ]
     },
     "execution_count": 2,
     "metadata": {},
     "output_type": "execute_result"
    }
   ],
   "source": [
    "import pandas as pd \n",
    "from dateutil.parser import parse\n",
    "df = pd.read_csv('.\\\\Canon Open Source Data\\\\knowledgeBase.csv')\n",
    "df['Date'] = [parse(df.loc[i].Date) for i in range(df.shape[0])]\n",
    "# df.drop('Unnamed: 0', axis=1, inplace=True)\n",
    "df"
   ]
  },
  {
   "cell_type": "code",
   "execution_count": 9,
   "metadata": {},
   "outputs": [
    {
     "data": {
      "text/plain": [
       "ICB      37\n",
       "PPP      24\n",
       "CS       23\n",
       "Laser     3\n",
       "Name: Product, dtype: int64"
      ]
     },
     "execution_count": 9,
     "metadata": {},
     "output_type": "execute_result"
    }
   ],
   "source": [
    "df.Product.value_counts()"
   ]
  },
  {
   "cell_type": "code",
   "execution_count": 12,
   "metadata": {},
   "outputs": [
    {
     "data": {
      "text/plain": [
       "North    12\n",
       "India     3\n",
       "South     2\n",
       "Name: Zone, dtype: int64"
      ]
     },
     "execution_count": 12,
     "metadata": {},
     "output_type": "execute_result"
    }
   ],
   "source": [
    "df.loc[df.Date==\"30-Jun-23\"].Zone.value_counts()"
   ]
  },
  {
   "cell_type": "code",
   "execution_count": 3,
   "metadata": {},
   "outputs": [],
   "source": [
    "import os\n",
    "import pandas as pd\n",
    "from dotenv import load_dotenv\n",
    "from langchain.chat_models import ChatOpenAI\n",
    "from langchain.agents import create_sql_agent\n",
    "from langchain.sql_database import SQLDatabase\n",
    "from langchain.agents.agent_toolkits import SQLDatabaseToolkit"
   ]
  },
  {
   "cell_type": "code",
   "execution_count": 6,
   "metadata": {},
   "outputs": [],
   "source": [
    "class SQLQuery:\n",
    "    def __init__(self):\n",
    "        self.DB_USERNAME = os.getenv('DB_USERNAME')\n",
    "        self.DB_PASSWORD = os.getenv('DB_PASSWORD')\n",
    "        self.DB_HOST = os.getenv('DB_HOST')\n",
    "        self.DB_NAME = os.getenv('DB_NAME')\n",
    "\n",
    "    def createDBConnectionString(self):\n",
    "        db_user = self.DB_USERNAME\n",
    "        db_Password  = self.DB_PASSWORD\n",
    "        db_host = self.DB_HOST\n",
    "        db_name = self.DB_NAME\n",
    "        connectionString = f\"mysql+pymysql://{db_user}:{db_Password}@{db_host}/{db_name}\"\n",
    "        return connectionString\n",
    "    \n",
    "    def getSQLSchema(self):\n",
    "        sql_query = f\"\"\"  \n",
    "        SELECT C.TABLE_NAME, C.COLUMN_NAME, C.DATA_TYPE, T.TABLE_TYPE, T.TABLE_SCHEMA  \n",
    "        FROM INFORMATION_SCHEMA.COLUMNS C  \n",
    "        JOIN INFORMATION_SCHEMA.TABLES T ON C.TABLE_NAME = T.TABLE_NAME AND C.TABLE_SCHEMA = T.TABLE_SCHEMA  \n",
    "        WHERE T.TABLE_SCHEMA = '{self.DB_NAME}' \n",
    "        \"\"\" \n",
    "        mysql_connection_string = self.createDBConnectionString()\n",
    "        result = pd.read_sql_query(sql_query, mysql_connection_string)\n",
    "        df = result.infer_objects()\n",
    "        output=[]\n",
    "        current_table = ''  \n",
    "        columns = []  \n",
    "        for index, row in df.iterrows():\n",
    "            table_name = f\"{row['TABLE_SCHEMA']}.{row['TABLE_NAME']}\"  \n",
    "            column_name = row['COLUMN_NAME']  \n",
    "            data_type = row['DATA_TYPE']  \n",
    "            if \" \" in table_name:\n",
    "                table_name= f\"[{table_name}]\" \n",
    "            column_name = row['COLUMN_NAME']  \n",
    "            if \" \" in column_name:\n",
    "                column_name= f\"[{column_name}]\" \n",
    "                # If the table name has changed, output the previous table's information  \n",
    "            if current_table != table_name and current_table != '':  \n",
    "                output.append(f\"table: {current_table}, columns: {', '.join(columns)}\")  \n",
    "                columns = []  \n",
    "            \n",
    "            # Add the current column information to the list of columns for the current table  \n",
    "            columns.append(f\"{column_name} {data_type}\")  \n",
    "            \n",
    "            # Update the current table name  \n",
    "            current_table = table_name  \n",
    "\n",
    "        # Output the last table's information  \n",
    "        output.append(f\"table: {current_table}, columns: {', '.join(columns)}\")\n",
    "        output = \"\\n \".join(output)\n",
    "\n",
    "        return output"
   ]
  },
  {
   "cell_type": "code",
   "execution_count": 7,
   "metadata": {},
   "outputs": [
    {
     "data": {
      "text/plain": [
       "'table: canondb.canon, columns: index int, Date date, Department varchar, Product varchar, Zone varchar, State varchar, Category varchar, Competetor_Product_Information varchar, Attachment varchar'"
      ]
     },
     "execution_count": 7,
     "metadata": {},
     "output_type": "execute_result"
    }
   ],
   "source": [
    "obj = SQLQuery()\n",
    "conn_string = obj.createDBConnectionString()\n",
    "df = obj.getSQLSchema()\n",
    "df"
   ]
  },
  {
   "cell_type": "code",
   "execution_count": null,
   "metadata": {},
   "outputs": [],
   "source": []
  },
  {
   "cell_type": "code",
   "execution_count": 12,
   "metadata": {},
   "outputs": [],
   "source": [
    "import os \n",
    "import pinecone as pc\n",
    "from dotenv import load_dotenv\n",
    "from langchain.embeddings import HuggingFaceEmbeddings\n",
    "from langchain.text_splitter import RecursiveCharacterTextSplitter\n",
    "from langchain.document_loaders import PyPDFLoader, DirectoryLoader\n",
    "from langchain.vectorstores import FAISS, Pinecone\n",
    "\n",
    "load_dotenv()\n",
    "\n",
    "class Data:\n",
    "    def __init__(self, pdf_data_path, vector_db_path):\n",
    "        self.pdf_data_path = pdf_data_path\n",
    "        self.vector_db_path = vector_db_path\n",
    "        self.pinecone_api_key = os.getenv('PINECONE_KEY')\n",
    "        self.pinecone_env = os.getenv('PINECONE_ENV')\n",
    "        self.embedding_model = HuggingFaceEmbeddings(model_name='sentence-transformers/all-MiniLM-L6-v2')\n",
    "\n",
    "    def createPDFVectorDBwithFAISS(self):\n",
    "        loader = DirectoryLoader(self.pdf_data_path, glob='*.pdf', loader_cls=PyPDFLoader,\n",
    "                                use_multithreading=True, show_progress=True)\n",
    "        docs = loader.load()\n",
    "        text_splitter  = RecursiveCharacterTextSplitter(chunk_size = 1000, chunk_overlap=200, \n",
    "                                                        separators=[\"\\n\\n\", \"\\n\", \" \", \"\"])\n",
    "        texts = text_splitter.split_documents(docs)\n",
    "        db = FAISS.from_documents(texts, self.embedding_model)\n",
    "        db.save_local(self.vector_db_path)\n",
    "\n",
    "    def create_top_k_chunk_from_FAISS(self, question, top_k):\n",
    "        test_idex = FAISS.load_local(self.vector_db_path,self.embedding_model)\n",
    "        top_k_chunks  = test_idex.similarity_search(question,k=top_k)\n",
    "        return top_k_chunks\n",
    "    \n",
    "\n",
    "    def createPDFVectorDBwithPinecone(self):\n",
    "        loader = DirectoryLoader(self.pdf_data_path, glob='*.pdf', loader_cls=PyPDFLoader,\n",
    "                                use_multithreading=True, show_progress=True)\n",
    "        docs = loader.load()\n",
    "        text_splitter  = RecursiveCharacterTextSplitter(chunk_size = 1000, chunk_overlap=200, \n",
    "                                                        separators=[\"\\n\\n\", \"\\n\", \" \", \"\"])\n",
    "        texts = text_splitter.split_documents(docs)\n",
    "        embeddings = []\n",
    "        ids = []\n",
    "        metadatas = []\n",
    "        for i in range(len(texts)):\n",
    "            page_content = texts[i].page_content\n",
    "            source_pdf = texts[i].metadata['source'].split('\\\\')[-1]\n",
    "            page_number = str(texts[i].metadata['page'])\n",
    "            embedded_page_content = self.embedding_model.embed_query(page_content)\n",
    "            metadata = {\n",
    "                'source' : source_pdf,\n",
    "                'page' : page_number,\n",
    "                'page_content' : page_content\n",
    "            }\n",
    "            ids.append(str(i))\n",
    "            embeddings.append(embedded_page_content)\n",
    "            metadatas.append(metadata)\n",
    "\n",
    "        pc.init(api_key=self.pinecone_api_key, environment=self.pinecone_env)\n",
    "        index = pc.Index('pdf-index')\n",
    "        index.upsert(vectors = zip(ids, embeddings, metadatas))\n",
    "\n",
    "\n",
    "    def create_top_k_chunk_from_Pinecone(self, question, top_k):\n",
    "        pc.init(api_key=self.pinecone_api_key, environment=self.pinecone_env)\n",
    "        index = pc.Index('pdf-index')\n",
    "        #embedded_question = self.embedding_model.embed_query(question)\n",
    "        vectorstore = Pinecone( index, self.embedding_model.embed_query, text_key='page_content')\n",
    "        top_k_chunks = vectorstore.similarity_search(question, k=top_k)\n",
    "        #result = index.query(embedded_question, top_k = top_k, includeMetaData=True)\n",
    "        return top_k_chunks"
   ]
  },
  {
   "cell_type": "code",
   "execution_count": 13,
   "metadata": {},
   "outputs": [
    {
     "name": "stdout",
     "output_type": "stream",
     "text": [
      "Sony ZV-E1 Full-Frame Interchangeable-Lens Mirrorless vlog Camera.pdf\n",
      "1\n"
     ]
    }
   ],
   "source": [
    "pdf_data_path = \".\\\\media\"\n",
    "pdf_vector_embedding_path = \".\\\\VectorDB\"\n",
    "data_obj = Data(pdf_data_path,pdf_vector_embedding_path)\n",
    "#data_obj.createPDFVectorDBwithPinecone()\n",
    "test_question = \"Find the cost of Sony ZV-E1 Full Frame camera\"\n",
    "result = data_obj.create_top_k_chunk_from_Pinecone(test_question, top_k =3)\n",
    "print(result[0].metadata['source'])\n",
    "print(result[0].metadata['page'])"
   ]
  },
  {
   "cell_type": "code",
   "execution_count": 14,
   "metadata": {},
   "outputs": [],
   "source": [
    "top_k_chunks = result"
   ]
  },
  {
   "cell_type": "code",
   "execution_count": 17,
   "metadata": {},
   "outputs": [],
   "source": [
    "def createQuestionPrompt(question, top_k_chunks):\n",
    "        prompt= \"\"\n",
    "        prompt += 'search results:\\n\\n'\n",
    "        for i in range(len(top_k_chunks)):\n",
    "            meta_info = '['+top_k_chunks[i].metadata['source'].split('\\\\')[-1] + \" , page : \" + str(top_k_chunks[i].metadata['page'])+'] '\n",
    "            page_content = top_k_chunks[i].page_content.replace('\\n', ' ')\n",
    "            page_content = re.sub('\\s+', ' ', page_content)\n",
    "            combined_content = meta_info + page_content\n",
    "            prompt += combined_content +'\\n\\n'\n",
    "        prompt += \"Instructions: Compose a comprehensive reply to the query using the search results given.\"\\\n",
    "                    \"Cite each reference using [pdfname.pdf , page : number] notation (every result has this number at the beginning).\"\\\n",
    "                    \"Citation should be done at the end of each sentence. If the search results mention multiple subjects\"\\\n",
    "                    \"with the same name, create separate answers for each. Only include information found in the results and\"\\\n",
    "                    \"don't add any additional information. Make sure the answer is correct and don't output false content.\"\\\n",
    "                    \"If the text does not relate to the query, simply state 'Found Nothing'. Don't write 'Answer:'\"\\\n",
    "                    \"Directly start the answer.\\n\"\n",
    "        prompt+= f\"Query : {question} \\n\\n\"\n",
    "        return prompt"
   ]
  },
  {
   "cell_type": "code",
   "execution_count": 18,
   "metadata": {},
   "outputs": [
    {
     "data": {
      "text/plain": [
       "'search results:\\n\\n[Sony ZV-E1 Full-Frame Interchangeable-Lens Mirrorless vlog Camera.pdf , page : 1] Technical Details: Brand Sony Manufacturer Sony, Sony Corporation, 1 -7-1 Konan, Minato -KU, Tokyo 108 -0075, Japan Model ZV-E1/BQ IN5 Model Name ZV-E1 Model Year 2023 Product Dimensions 5.43 x 12.1 x 7.19 cm; 483 Grams Batteries 1 Lithium Ion batteries required. (included) Item model number ZV-E1/BQ IN5 Memory Slots Available 1 Compatible Devices Laptop, Desktop, Tablet, Smartphone Special Features Face Detection Mounting Hardware Camera, Rechargeable Battery NP -FZ100, Shoulder strap, Wind Screen, Wind Screen Adapter, Body cap, Accessory shoe cap Number of items 1 Standing screen display size\\n\\n[Sony ZV-E1 Full-Frame Interchangeable-Lens Mirrorless vlog Camera.pdf , page : 0] Sony ZV -E1 Full -Frame Interchangeable -Lens Mirrorless vlog Camera Working with the ZV -E1\\'s 12.1 MP2 full -frame sensor, the latest BIONZ XR ™ engine provides high - speed processing to support 4K 60p, 120p upgradable recording, while an AI processing unit improves subject -recognition capabilities for advanced vlogging applications. About this item 12.1 MP full -frame back -illuminated CMOS Exmor R image sensor Advanced BIONZ XR image processing engine An AI processing unit for wider, more accurate subject recognition The world\\'s most compact, lightweight full -frame camera with interchangeable lenses Intelligent 3 -Capsule Microphone ZV-E1 can be used with all E -mount lenses, including the superlative G Master series with its stunning resolution and world -class bokeh. A choice of focal lengths ranging from 12 mm to 1200 mm5 gives users outstanding creative control.\\n\\n[Sony ZV-E1 Full-Frame Interchangeable-Lens Mirrorless vlog Camera.pdf , page : 5] The Sony ZV -E1 is great for travel photography, especially if you don\\'t mind shooting without a viewfinder. It\\'s very compact and portable for a full -frame camera, though it still isn\\'t the option to get if portability is your main priority since full -frame lenses can still add some bulk. On the upside, it has an amazing battery life and captures stunning images, with particularly good low -light performance. Its autofocus system is also remarkably reliable and accurate, with a sophisticated subject detection and tracking feature. That said, its ergonomics leave a little to be desired, particularly if you have larger hands. The Sony ZV -E1 is the first full -fram e camera from Sony dedicated specifically to vlogging and content creation. Like many of its ZV series predecessors, it has a fully articulated screen, no viewfinder, and an improved internal microphone, complete with a detachable \"dead cat\" windscreen. Bu t it stands\\n\\nInstructions: Compose a comprehensive reply to the query using the search results given.Cite each reference using [pdfname.pdf , page : number] notation (every result has this number at the beginning).Citation should be done at the end of each sentence. If the search results mention multiple subjectswith the same name, create separate answers for each. Only include information found in the results anddon\\'t add any additional information. Make sure the answer is correct and don\\'t output false content.If the text does not relate to the query, simply state \\'Found Nothing\\'. Don\\'t write \\'Answer:\\'Directly start the answer.\\nQuery : Find the cost of Sony ZV-E1 Full Frame camera \\n\\n'"
      ]
     },
     "execution_count": 18,
     "metadata": {},
     "output_type": "execute_result"
    }
   ],
   "source": [
    "question = \"Find the cost of Sony ZV-E1 Full Frame camera\"\n",
    "createQuestionPrompt(question, top_k_chunks)"
   ]
  },
  {
   "cell_type": "code",
   "execution_count": null,
   "metadata": {},
   "outputs": [],
   "source": []
  }
 ],
 "metadata": {
  "kernelspec": {
   "display_name": "torch_env",
   "language": "python",
   "name": "python3"
  },
  "language_info": {
   "codemirror_mode": {
    "name": "ipython",
    "version": 3
   },
   "file_extension": ".py",
   "mimetype": "text/x-python",
   "name": "python",
   "nbconvert_exporter": "python",
   "pygments_lexer": "ipython3",
   "version": "3.10.11"
  },
  "orig_nbformat": 4
 },
 "nbformat": 4,
 "nbformat_minor": 2
}
